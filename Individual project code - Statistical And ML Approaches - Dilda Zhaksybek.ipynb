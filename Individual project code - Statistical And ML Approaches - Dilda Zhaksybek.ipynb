{
 "cells": [
  {
   "cell_type": "code",
   "execution_count": 720,
   "metadata": {},
   "outputs": [],
   "source": [
    "#ignore the warnings\n",
    "options(warn=-1)"
   ]
  },
  {
   "cell_type": "code",
   "execution_count": 721,
   "metadata": {
    "scrolled": false
   },
   "outputs": [
    {
     "data": {
      "text/html": [
       "'R version 4.0.5 (2021-03-31)'"
      ],
      "text/latex": [
       "'R version 4.0.5 (2021-03-31)'"
      ],
      "text/markdown": [
       "'R version 4.0.5 (2021-03-31)'"
      ],
      "text/plain": [
       "[1] \"R version 4.0.5 (2021-03-31)\""
      ]
     },
     "metadata": {},
     "output_type": "display_data"
    }
   ],
   "source": [
    "# Set environment params\n",
    "Sys.setenv(LANG='en')  # English\n",
    "\n",
    "# Import libraries\n",
    "library(data.table)  # Data manipulate\n",
    "library(mlr)         # ML toolkit\n",
    "library(caret)       # ML toolkit\n",
    "library(ggplot2)     # Visualization\n",
    "library(pROC)        # AUC, ROC\n",
    "library(e1071)       # Evaluation\n",
    "library(gridExtra)   # Visualization\n",
    "library(kknn)        # kNN model\n",
    "library(nnet)        # One-vs-All Logistic Regression\n",
    "library(dummies)     # Data processing\n",
    "\n",
    "# Import data\n",
    "library(ISLR)      # Data from the course book\n",
    "library(MASS)      # Boston housing dataset\n",
    "library(datasets)  # US crime dataset\n",
    "\n",
    "# Resize plot\n",
    "library(repr)  # String and binary representations\n",
    "#options(repr.plot.width=4, repr.plot.height=4)\n",
    "\n",
    "R.version.string"
   ]
  },
  {
   "cell_type": "code",
   "execution_count": 722,
   "metadata": {},
   "outputs": [],
   "source": [
    "#read in the datset\n",
    "data = read.csv(\".//Dataset 1_Bank Marketing//bank_mkt_train.csv\")"
   ]
  },
  {
   "cell_type": "code",
   "execution_count": 723,
   "metadata": {
    "scrolled": false
   },
   "outputs": [
    {
     "data": {
      "text/plain": [
       "   client_id          age            job              marital         \n",
       " Min.   :    2   Min.   :17.00   Length:20000       Length:20000      \n",
       " 1st Qu.:10312   1st Qu.:32.00   Class :character   Class :character  \n",
       " Median :20762   Median :38.00   Mode  :character   Mode  :character  \n",
       " Mean   :20683   Mean   :40.05                                        \n",
       " 3rd Qu.:30993   3rd Qu.:47.00                                        \n",
       " Max.   :41188   Max.   :98.00                                        \n",
       "                 NA's   :202                                          \n",
       "  education           default            housing              loan          \n",
       " Length:20000       Length:20000       Length:20000       Length:20000      \n",
       " Class :character   Class :character   Class :character   Class :character  \n",
       " Mode  :character   Mode  :character   Mode  :character   Mode  :character  \n",
       "                                                                            \n",
       "                                                                            \n",
       "                                                                            \n",
       "                                                                            \n",
       "   contact             month           day_of_week           campaign    \n",
       " Length:20000       Length:20000       Length:20000       Min.   : 1.00  \n",
       " Class :character   Class :character   Class :character   1st Qu.: 1.00  \n",
       " Mode  :character   Mode  :character   Mode  :character   Median : 2.00  \n",
       "                                                          Mean   : 2.58  \n",
       "                                                          3rd Qu.: 3.00  \n",
       "                                                          Max.   :56.00  \n",
       "                                                          NA's   :203    \n",
       "     pdays          previous        poutcome          emp.var.rate     \n",
       " Min.   :  0.0   Min.   :0.0000   Length:20000       Min.   :-3.40000  \n",
       " 1st Qu.:999.0   1st Qu.:0.0000   Class :character   1st Qu.:-1.80000  \n",
       " Median :999.0   Median :0.0000   Mode  :character   Median : 1.10000  \n",
       " Mean   :961.4   Mean   :0.1717                      Mean   : 0.08844  \n",
       " 3rd Qu.:999.0   3rd Qu.:0.0000                      3rd Qu.: 1.40000  \n",
       " Max.   :999.0   Max.   :6.0000                      Max.   : 1.40000  \n",
       " NA's   :185     NA's   :209                         NA's   :165       \n",
       " cons.price.idx  cons.conf.idx      euribor3m      nr.employed  \n",
       " Min.   :92.20   Min.   :-50.80   Min.   :0.634   Min.   :4964  \n",
       " 1st Qu.:93.08   1st Qu.:-42.70   1st Qu.:1.344   1st Qu.:5099  \n",
       " Median :93.80   Median :-41.80   Median :4.857   Median :5191  \n",
       " Mean   :93.58   Mean   :-40.47   Mean   :3.633   Mean   :5167  \n",
       " 3rd Qu.:93.99   3rd Qu.:-36.40   3rd Qu.:4.961   3rd Qu.:5228  \n",
       " Max.   :94.77   Max.   :-26.90   Max.   :5.045   Max.   :5228  \n",
       " NA's   :181     NA's   :197      NA's   :204     NA's   :184   \n",
       "   subscribe     \n",
       " Min.   :0.0000  \n",
       " 1st Qu.:0.0000  \n",
       " Median :0.0000  \n",
       " Mean   :0.1135  \n",
       " 3rd Qu.:0.0000  \n",
       " Max.   :1.0000  \n",
       "                 "
      ]
     },
     "metadata": {},
     "output_type": "display_data"
    }
   ],
   "source": [
    "summary(data) #get summary of the variables"
   ]
  },
  {
   "cell_type": "code",
   "execution_count": 724,
   "metadata": {},
   "outputs": [],
   "source": [
    "# Train test separate with stratified at 70% for the train\n",
    "set.seed(123)\n",
    "train_idx <- createDataPartition(data$subscribe, p=.7, list=FALSE)\n",
    "train <- data[train_idx, ]\n",
    "test <- data[-train_idx, ]"
   ]
  },
  {
   "cell_type": "code",
   "execution_count": 725,
   "metadata": {
    "scrolled": false
   },
   "outputs": [
    {
     "name": "stdout",
     "output_type": "stream",
     "text": [
      "[1] 14000    21\n",
      "[1] 6000   21\n"
     ]
    }
   ],
   "source": [
    "print(dim(train))\n",
    "print(dim(test))"
   ]
  },
  {
   "cell_type": "markdown",
   "metadata": {},
   "source": [
    "## Treating NA values in the train set"
   ]
  },
  {
   "cell_type": "code",
   "execution_count": 726,
   "metadata": {
    "scrolled": true
   },
   "outputs": [
    {
     "data": {
      "text/html": [
       "<style>\n",
       ".dl-inline {width: auto; margin:0; padding: 0}\n",
       ".dl-inline>dt, .dl-inline>dd {float: none; width: auto; display: inline-block}\n",
       ".dl-inline>dt::after {content: \":\\0020\"; padding-right: .5ex}\n",
       ".dl-inline>dt:not(:first-of-type) {padding-left: .5ex}\n",
       "</style><dl class=dl-inline><dt>client_id</dt><dd>0</dd><dt>age</dt><dd>143</dd><dt>job</dt><dd>114</dd><dt>marital</dt><dd>147</dd><dt>education</dt><dd>120</dd><dt>default</dt><dd>160</dd><dt>housing</dt><dd>133</dd><dt>loan</dt><dd>150</dd><dt>contact</dt><dd>152</dd><dt>month</dt><dd>147</dd><dt>day_of_week</dt><dd>131</dd><dt>campaign</dt><dd>145</dd><dt>pdays</dt><dd>136</dd><dt>previous</dt><dd>141</dd><dt>poutcome</dt><dd>124</dd><dt>emp.var.rate</dt><dd>116</dd><dt>cons.price.idx</dt><dd>132</dd><dt>cons.conf.idx</dt><dd>151</dd><dt>euribor3m</dt><dd>141</dd><dt>nr.employed</dt><dd>128</dd><dt>subscribe</dt><dd>0</dd></dl>\n"
      ],
      "text/latex": [
       "\\begin{description*}\n",
       "\\item[client\\textbackslash{}\\_id] 0\n",
       "\\item[age] 143\n",
       "\\item[job] 114\n",
       "\\item[marital] 147\n",
       "\\item[education] 120\n",
       "\\item[default] 160\n",
       "\\item[housing] 133\n",
       "\\item[loan] 150\n",
       "\\item[contact] 152\n",
       "\\item[month] 147\n",
       "\\item[day\\textbackslash{}\\_of\\textbackslash{}\\_week] 131\n",
       "\\item[campaign] 145\n",
       "\\item[pdays] 136\n",
       "\\item[previous] 141\n",
       "\\item[poutcome] 124\n",
       "\\item[emp.var.rate] 116\n",
       "\\item[cons.price.idx] 132\n",
       "\\item[cons.conf.idx] 151\n",
       "\\item[euribor3m] 141\n",
       "\\item[nr.employed] 128\n",
       "\\item[subscribe] 0\n",
       "\\end{description*}\n"
      ],
      "text/markdown": [
       "client_id\n",
       ":   0age\n",
       ":   143job\n",
       ":   114marital\n",
       ":   147education\n",
       ":   120default\n",
       ":   160housing\n",
       ":   133loan\n",
       ":   150contact\n",
       ":   152month\n",
       ":   147day_of_week\n",
       ":   131campaign\n",
       ":   145pdays\n",
       ":   136previous\n",
       ":   141poutcome\n",
       ":   124emp.var.rate\n",
       ":   116cons.price.idx\n",
       ":   132cons.conf.idx\n",
       ":   151euribor3m\n",
       ":   141nr.employed\n",
       ":   128subscribe\n",
       ":   0\n",
       "\n"
      ],
      "text/plain": [
       "     client_id            age            job        marital      education \n",
       "             0            143            114            147            120 \n",
       "       default        housing           loan        contact          month \n",
       "           160            133            150            152            147 \n",
       "   day_of_week       campaign          pdays       previous       poutcome \n",
       "           131            145            136            141            124 \n",
       "  emp.var.rate cons.price.idx  cons.conf.idx      euribor3m    nr.employed \n",
       "           116            132            151            141            128 \n",
       "     subscribe \n",
       "             0 "
      ]
     },
     "metadata": {},
     "output_type": "display_data"
    }
   ],
   "source": [
    "colSums(is.na(train)) #get NAs per column"
   ]
  },
  {
   "cell_type": "code",
   "execution_count": 727,
   "metadata": {},
   "outputs": [],
   "source": [
    "#replacing NA with mean value of the column for some variables in a loop\n",
    "cols = c(\"emp.var.rate\",\"cons.price.idx\",\"cons.conf.idx\",\"euribor3m\",\"nr.employed\")\n",
    "for (i in cols){\n",
    "train[is.na(train[,i]), i] <- mean(train[,i], na.rm = TRUE)\n",
    "}"
   ]
  },
  {
   "cell_type": "code",
   "execution_count": 728,
   "metadata": {},
   "outputs": [],
   "source": [
    "#replacing pdays missing values with 999 - no contact as most of the values are 999\n",
    "train$pdays[is.na(train$pdays)] = 999\n",
    "#replacing with 0 as most the values are 0\n",
    "train$previous[is.na(train$previous)] = 0 "
   ]
  },
  {
   "cell_type": "code",
   "execution_count": 729,
   "metadata": {},
   "outputs": [],
   "source": [
    "#dropping NA observations in campaign and age\n",
    "train = train[complete.cases(train[ ,\"campaign\"]),]\n",
    "train = train[complete.cases(train[ ,\"age\"]),]"
   ]
  },
  {
   "cell_type": "code",
   "execution_count": 730,
   "metadata": {},
   "outputs": [
    {
     "data": {
      "text/html": [
       "<style>\n",
       ".dl-inline {width: auto; margin:0; padding: 0}\n",
       ".dl-inline>dt, .dl-inline>dd {float: none; width: auto; display: inline-block}\n",
       ".dl-inline>dt::after {content: \":\\0020\"; padding-right: .5ex}\n",
       ".dl-inline>dt:not(:first-of-type) {padding-left: .5ex}\n",
       "</style><dl class=dl-inline><dt>client_id</dt><dd>0</dd><dt>age</dt><dd>0</dd><dt>job</dt><dd>111</dd><dt>marital</dt><dd>143</dd><dt>education</dt><dd>118</dd><dt>default</dt><dd>156</dd><dt>housing</dt><dd>129</dd><dt>loan</dt><dd>148</dd><dt>contact</dt><dd>148</dd><dt>month</dt><dd>144</dd><dt>day_of_week</dt><dd>128</dd><dt>campaign</dt><dd>0</dd><dt>pdays</dt><dd>0</dd><dt>previous</dt><dd>0</dd><dt>poutcome</dt><dd>124</dd><dt>emp.var.rate</dt><dd>0</dd><dt>cons.price.idx</dt><dd>0</dd><dt>cons.conf.idx</dt><dd>0</dd><dt>euribor3m</dt><dd>0</dd><dt>nr.employed</dt><dd>0</dd><dt>subscribe</dt><dd>0</dd></dl>\n"
      ],
      "text/latex": [
       "\\begin{description*}\n",
       "\\item[client\\textbackslash{}\\_id] 0\n",
       "\\item[age] 0\n",
       "\\item[job] 111\n",
       "\\item[marital] 143\n",
       "\\item[education] 118\n",
       "\\item[default] 156\n",
       "\\item[housing] 129\n",
       "\\item[loan] 148\n",
       "\\item[contact] 148\n",
       "\\item[month] 144\n",
       "\\item[day\\textbackslash{}\\_of\\textbackslash{}\\_week] 128\n",
       "\\item[campaign] 0\n",
       "\\item[pdays] 0\n",
       "\\item[previous] 0\n",
       "\\item[poutcome] 124\n",
       "\\item[emp.var.rate] 0\n",
       "\\item[cons.price.idx] 0\n",
       "\\item[cons.conf.idx] 0\n",
       "\\item[euribor3m] 0\n",
       "\\item[nr.employed] 0\n",
       "\\item[subscribe] 0\n",
       "\\end{description*}\n"
      ],
      "text/markdown": [
       "client_id\n",
       ":   0age\n",
       ":   0job\n",
       ":   111marital\n",
       ":   143education\n",
       ":   118default\n",
       ":   156housing\n",
       ":   129loan\n",
       ":   148contact\n",
       ":   148month\n",
       ":   144day_of_week\n",
       ":   128campaign\n",
       ":   0pdays\n",
       ":   0previous\n",
       ":   0poutcome\n",
       ":   124emp.var.rate\n",
       ":   0cons.price.idx\n",
       ":   0cons.conf.idx\n",
       ":   0euribor3m\n",
       ":   0nr.employed\n",
       ":   0subscribe\n",
       ":   0\n",
       "\n"
      ],
      "text/plain": [
       "     client_id            age            job        marital      education \n",
       "             0              0            111            143            118 \n",
       "       default        housing           loan        contact          month \n",
       "           156            129            148            148            144 \n",
       "   day_of_week       campaign          pdays       previous       poutcome \n",
       "           128              0              0              0            124 \n",
       "  emp.var.rate cons.price.idx  cons.conf.idx      euribor3m    nr.employed \n",
       "             0              0              0              0              0 \n",
       "     subscribe \n",
       "             0 "
      ]
     },
     "metadata": {},
     "output_type": "display_data"
    }
   ],
   "source": [
    "colSums(is.na(train))"
   ]
  },
  {
   "cell_type": "code",
   "execution_count": 732,
   "metadata": {},
   "outputs": [
    {
     "data": {
      "text/html": [
       "<style>\n",
       ".list-inline {list-style: none; margin:0; padding: 0}\n",
       ".list-inline>li {display: inline-block}\n",
       ".list-inline>li:not(:last-child)::after {content: \"\\00b7\"; padding: 0 .5ex}\n",
       "</style>\n",
       "<ol class=list-inline><li>'job'</li><li>'marital'</li><li>'education'</li><li>'default'</li><li>'housing'</li><li>'loan'</li><li>'contact'</li><li>'month'</li><li>'day_of_week'</li><li>'poutcome'</li></ol>\n"
      ],
      "text/latex": [
       "\\begin{enumerate*}\n",
       "\\item 'job'\n",
       "\\item 'marital'\n",
       "\\item 'education'\n",
       "\\item 'default'\n",
       "\\item 'housing'\n",
       "\\item 'loan'\n",
       "\\item 'contact'\n",
       "\\item 'month'\n",
       "\\item 'day\\_of\\_week'\n",
       "\\item 'poutcome'\n",
       "\\end{enumerate*}\n"
      ],
      "text/markdown": [
       "1. 'job'\n",
       "2. 'marital'\n",
       "3. 'education'\n",
       "4. 'default'\n",
       "5. 'housing'\n",
       "6. 'loan'\n",
       "7. 'contact'\n",
       "8. 'month'\n",
       "9. 'day_of_week'\n",
       "10. 'poutcome'\n",
       "\n",
       "\n"
      ],
      "text/plain": [
       " [1] \"job\"         \"marital\"     \"education\"   \"default\"     \"housing\"    \n",
       " [6] \"loan\"        \"contact\"     \"month\"       \"day_of_week\" \"poutcome\"   "
      ]
     },
     "metadata": {},
     "output_type": "display_data"
    }
   ],
   "source": [
    "# Get list of categorical variables in the train set\n",
    "var_list <- names(train[, 1:(ncol(train)-1)])\n",
    "cat_list <- var_list[sapply(train[, var_list], class) == 'character']\n",
    "cat_list"
   ]
  },
  {
   "cell_type": "code",
   "execution_count": 733,
   "metadata": {},
   "outputs": [],
   "source": [
    "# Convert categorical variables to dummy variables\n",
    "dummy_list <- list()\n",
    "for (v in cat_list) {\n",
    "    # Create dummy variables\n",
    "    tmp <- dummy(v, data=train, sep=\"_\", drop=TRUE)\n",
    "    # Drop the 1st column\n",
    "    tmp <- tmp[, 2:ncol(tmp), drop=FALSE]\n",
    "    # Store the results\n",
    "    dummy_list[[length(dummy_list)+1]] <- tmp\n",
    "}\n",
    "\n",
    "# Combine the dummy variables\n",
    "dummy_df <- do.call(cbind, dummy_list)\n",
    "\n",
    "# Add the dummy variables to the data frame\n",
    "train <- cbind(train, dummy_df)\n",
    "\n",
    "# Drop the original variable\n",
    "train <- train[, !(names(train) %in% cat_list)]"
   ]
  },
  {
   "cell_type": "code",
   "execution_count": 734,
   "metadata": {},
   "outputs": [
    {
     "data": {
      "text/html": [
       "<style>\n",
       ".list-inline {list-style: none; margin:0; padding: 0}\n",
       ".list-inline>li {display: inline-block}\n",
       ".list-inline>li:not(:last-child)::after {content: \"\\00b7\"; padding: 0 .5ex}\n",
       "</style>\n",
       "<ol class=list-inline><li>13713</li><li>64</li></ol>\n"
      ],
      "text/latex": [
       "\\begin{enumerate*}\n",
       "\\item 13713\n",
       "\\item 64\n",
       "\\end{enumerate*}\n"
      ],
      "text/markdown": [
       "1. 13713\n",
       "2. 64\n",
       "\n",
       "\n"
      ],
      "text/plain": [
       "[1] 13713    64"
      ]
     },
     "metadata": {},
     "output_type": "display_data"
    }
   ],
   "source": [
    "dim(train)"
   ]
  },
  {
   "cell_type": "code",
   "execution_count": 735,
   "metadata": {},
   "outputs": [
    {
     "data": {
      "text/html": [
       "<style>\n",
       ".dl-inline {width: auto; margin:0; padding: 0}\n",
       ".dl-inline>dt, .dl-inline>dd {float: none; width: auto; display: inline-block}\n",
       ".dl-inline>dt::after {content: \":\\0020\"; padding-right: .5ex}\n",
       ".dl-inline>dt:not(:first-of-type) {padding-left: .5ex}\n",
       "</style><dl class=dl-inline><dt>client_id</dt><dd>0</dd><dt>age</dt><dd>0</dd><dt>campaign</dt><dd>0</dd><dt>pdays</dt><dd>0</dd><dt>previous</dt><dd>0</dd><dt>emp.var.rate</dt><dd>0</dd><dt>cons.price.idx</dt><dd>0</dd><dt>cons.conf.idx</dt><dd>0</dd><dt>euribor3m</dt><dd>0</dd><dt>nr.employed</dt><dd>0</dd><dt>subscribe</dt><dd>0</dd><dt>job_blue-collar</dt><dd>0</dd><dt>job_entrepreneur</dt><dd>0</dd><dt>job_housemaid</dt><dd>0</dd><dt>job_management</dt><dd>0</dd><dt>job_retired</dt><dd>0</dd><dt>job_self-employed</dt><dd>0</dd><dt>job_services</dt><dd>0</dd><dt>job_student</dt><dd>0</dd><dt>job_technician</dt><dd>0</dd><dt>job_unemployed</dt><dd>0</dd><dt>job_unknown</dt><dd>0</dd><dt>job_NA</dt><dd>0</dd><dt>marital_married</dt><dd>0</dd><dt>marital_single</dt><dd>0</dd><dt>marital_unknown</dt><dd>0</dd><dt>marital_NA</dt><dd>0</dd><dt>education_basic.6y</dt><dd>0</dd><dt>education_basic.9y</dt><dd>0</dd><dt>education_high.school</dt><dd>0</dd><dt>education_illiterate</dt><dd>0</dd><dt>education_professional.course</dt><dd>0</dd><dt>education_university.degree</dt><dd>0</dd><dt>education_unknown</dt><dd>0</dd><dt>education_NA</dt><dd>0</dd><dt>default_unknown</dt><dd>0</dd><dt>default_yes</dt><dd>0</dd><dt>default_NA</dt><dd>0</dd><dt>housing_unknown</dt><dd>0</dd><dt>housing_yes</dt><dd>0</dd><dt>housing_NA</dt><dd>0</dd><dt>loan_unknown</dt><dd>0</dd><dt>loan_yes</dt><dd>0</dd><dt>loan_NA</dt><dd>0</dd><dt>contact_telephone</dt><dd>0</dd><dt>contact_NA</dt><dd>0</dd><dt>month_aug</dt><dd>0</dd><dt>month_dec</dt><dd>0</dd><dt>month_jul</dt><dd>0</dd><dt>month_jun</dt><dd>0</dd><dt>month_mar</dt><dd>0</dd><dt>month_may</dt><dd>0</dd><dt>month_nov</dt><dd>0</dd><dt>month_oct</dt><dd>0</dd><dt>month_sep</dt><dd>0</dd><dt>month_NA</dt><dd>0</dd><dt>day_of_week_mon</dt><dd>0</dd><dt>day_of_week_thu</dt><dd>0</dd><dt>day_of_week_tue</dt><dd>0</dd><dt>day_of_week_wed</dt><dd>0</dd><dt>day_of_week_NA</dt><dd>0</dd><dt>poutcome_nonexistent</dt><dd>0</dd><dt>poutcome_success</dt><dd>0</dd><dt>poutcome_NA</dt><dd>0</dd></dl>\n"
      ],
      "text/latex": [
       "\\begin{description*}\n",
       "\\item[client\\textbackslash{}\\_id] 0\n",
       "\\item[age] 0\n",
       "\\item[campaign] 0\n",
       "\\item[pdays] 0\n",
       "\\item[previous] 0\n",
       "\\item[emp.var.rate] 0\n",
       "\\item[cons.price.idx] 0\n",
       "\\item[cons.conf.idx] 0\n",
       "\\item[euribor3m] 0\n",
       "\\item[nr.employed] 0\n",
       "\\item[subscribe] 0\n",
       "\\item[job\\textbackslash{}\\_blue-collar] 0\n",
       "\\item[job\\textbackslash{}\\_entrepreneur] 0\n",
       "\\item[job\\textbackslash{}\\_housemaid] 0\n",
       "\\item[job\\textbackslash{}\\_management] 0\n",
       "\\item[job\\textbackslash{}\\_retired] 0\n",
       "\\item[job\\textbackslash{}\\_self-employed] 0\n",
       "\\item[job\\textbackslash{}\\_services] 0\n",
       "\\item[job\\textbackslash{}\\_student] 0\n",
       "\\item[job\\textbackslash{}\\_technician] 0\n",
       "\\item[job\\textbackslash{}\\_unemployed] 0\n",
       "\\item[job\\textbackslash{}\\_unknown] 0\n",
       "\\item[job\\textbackslash{}\\_NA] 0\n",
       "\\item[marital\\textbackslash{}\\_married] 0\n",
       "\\item[marital\\textbackslash{}\\_single] 0\n",
       "\\item[marital\\textbackslash{}\\_unknown] 0\n",
       "\\item[marital\\textbackslash{}\\_NA] 0\n",
       "\\item[education\\textbackslash{}\\_basic.6y] 0\n",
       "\\item[education\\textbackslash{}\\_basic.9y] 0\n",
       "\\item[education\\textbackslash{}\\_high.school] 0\n",
       "\\item[education\\textbackslash{}\\_illiterate] 0\n",
       "\\item[education\\textbackslash{}\\_professional.course] 0\n",
       "\\item[education\\textbackslash{}\\_university.degree] 0\n",
       "\\item[education\\textbackslash{}\\_unknown] 0\n",
       "\\item[education\\textbackslash{}\\_NA] 0\n",
       "\\item[default\\textbackslash{}\\_unknown] 0\n",
       "\\item[default\\textbackslash{}\\_yes] 0\n",
       "\\item[default\\textbackslash{}\\_NA] 0\n",
       "\\item[housing\\textbackslash{}\\_unknown] 0\n",
       "\\item[housing\\textbackslash{}\\_yes] 0\n",
       "\\item[housing\\textbackslash{}\\_NA] 0\n",
       "\\item[loan\\textbackslash{}\\_unknown] 0\n",
       "\\item[loan\\textbackslash{}\\_yes] 0\n",
       "\\item[loan\\textbackslash{}\\_NA] 0\n",
       "\\item[contact\\textbackslash{}\\_telephone] 0\n",
       "\\item[contact\\textbackslash{}\\_NA] 0\n",
       "\\item[month\\textbackslash{}\\_aug] 0\n",
       "\\item[month\\textbackslash{}\\_dec] 0\n",
       "\\item[month\\textbackslash{}\\_jul] 0\n",
       "\\item[month\\textbackslash{}\\_jun] 0\n",
       "\\item[month\\textbackslash{}\\_mar] 0\n",
       "\\item[month\\textbackslash{}\\_may] 0\n",
       "\\item[month\\textbackslash{}\\_nov] 0\n",
       "\\item[month\\textbackslash{}\\_oct] 0\n",
       "\\item[month\\textbackslash{}\\_sep] 0\n",
       "\\item[month\\textbackslash{}\\_NA] 0\n",
       "\\item[day\\textbackslash{}\\_of\\textbackslash{}\\_week\\textbackslash{}\\_mon] 0\n",
       "\\item[day\\textbackslash{}\\_of\\textbackslash{}\\_week\\textbackslash{}\\_thu] 0\n",
       "\\item[day\\textbackslash{}\\_of\\textbackslash{}\\_week\\textbackslash{}\\_tue] 0\n",
       "\\item[day\\textbackslash{}\\_of\\textbackslash{}\\_week\\textbackslash{}\\_wed] 0\n",
       "\\item[day\\textbackslash{}\\_of\\textbackslash{}\\_week\\textbackslash{}\\_NA] 0\n",
       "\\item[poutcome\\textbackslash{}\\_nonexistent] 0\n",
       "\\item[poutcome\\textbackslash{}\\_success] 0\n",
       "\\item[poutcome\\textbackslash{}\\_NA] 0\n",
       "\\end{description*}\n"
      ],
      "text/markdown": [
       "client_id\n",
       ":   0age\n",
       ":   0campaign\n",
       ":   0pdays\n",
       ":   0previous\n",
       ":   0emp.var.rate\n",
       ":   0cons.price.idx\n",
       ":   0cons.conf.idx\n",
       ":   0euribor3m\n",
       ":   0nr.employed\n",
       ":   0subscribe\n",
       ":   0job_blue-collar\n",
       ":   0job_entrepreneur\n",
       ":   0job_housemaid\n",
       ":   0job_management\n",
       ":   0job_retired\n",
       ":   0job_self-employed\n",
       ":   0job_services\n",
       ":   0job_student\n",
       ":   0job_technician\n",
       ":   0job_unemployed\n",
       ":   0job_unknown\n",
       ":   0job_NA\n",
       ":   0marital_married\n",
       ":   0marital_single\n",
       ":   0marital_unknown\n",
       ":   0marital_NA\n",
       ":   0education_basic.6y\n",
       ":   0education_basic.9y\n",
       ":   0education_high.school\n",
       ":   0education_illiterate\n",
       ":   0education_professional.course\n",
       ":   0education_university.degree\n",
       ":   0education_unknown\n",
       ":   0education_NA\n",
       ":   0default_unknown\n",
       ":   0default_yes\n",
       ":   0default_NA\n",
       ":   0housing_unknown\n",
       ":   0housing_yes\n",
       ":   0housing_NA\n",
       ":   0loan_unknown\n",
       ":   0loan_yes\n",
       ":   0loan_NA\n",
       ":   0contact_telephone\n",
       ":   0contact_NA\n",
       ":   0month_aug\n",
       ":   0month_dec\n",
       ":   0month_jul\n",
       ":   0month_jun\n",
       ":   0month_mar\n",
       ":   0month_may\n",
       ":   0month_nov\n",
       ":   0month_oct\n",
       ":   0month_sep\n",
       ":   0month_NA\n",
       ":   0day_of_week_mon\n",
       ":   0day_of_week_thu\n",
       ":   0day_of_week_tue\n",
       ":   0day_of_week_wed\n",
       ":   0day_of_week_NA\n",
       ":   0poutcome_nonexistent\n",
       ":   0poutcome_success\n",
       ":   0poutcome_NA\n",
       ":   0\n",
       "\n"
      ],
      "text/plain": [
       "                    client_id                           age \n",
       "                            0                             0 \n",
       "                     campaign                         pdays \n",
       "                            0                             0 \n",
       "                     previous                  emp.var.rate \n",
       "                            0                             0 \n",
       "               cons.price.idx                 cons.conf.idx \n",
       "                            0                             0 \n",
       "                    euribor3m                   nr.employed \n",
       "                            0                             0 \n",
       "                    subscribe               job_blue-collar \n",
       "                            0                             0 \n",
       "             job_entrepreneur                 job_housemaid \n",
       "                            0                             0 \n",
       "               job_management                   job_retired \n",
       "                            0                             0 \n",
       "            job_self-employed                  job_services \n",
       "                            0                             0 \n",
       "                  job_student                job_technician \n",
       "                            0                             0 \n",
       "               job_unemployed                   job_unknown \n",
       "                            0                             0 \n",
       "                       job_NA               marital_married \n",
       "                            0                             0 \n",
       "               marital_single               marital_unknown \n",
       "                            0                             0 \n",
       "                   marital_NA            education_basic.6y \n",
       "                            0                             0 \n",
       "           education_basic.9y         education_high.school \n",
       "                            0                             0 \n",
       "         education_illiterate education_professional.course \n",
       "                            0                             0 \n",
       "  education_university.degree             education_unknown \n",
       "                            0                             0 \n",
       "                 education_NA               default_unknown \n",
       "                            0                             0 \n",
       "                  default_yes                    default_NA \n",
       "                            0                             0 \n",
       "              housing_unknown                   housing_yes \n",
       "                            0                             0 \n",
       "                   housing_NA                  loan_unknown \n",
       "                            0                             0 \n",
       "                     loan_yes                       loan_NA \n",
       "                            0                             0 \n",
       "            contact_telephone                    contact_NA \n",
       "                            0                             0 \n",
       "                    month_aug                     month_dec \n",
       "                            0                             0 \n",
       "                    month_jul                     month_jun \n",
       "                            0                             0 \n",
       "                    month_mar                     month_may \n",
       "                            0                             0 \n",
       "                    month_nov                     month_oct \n",
       "                            0                             0 \n",
       "                    month_sep                      month_NA \n",
       "                            0                             0 \n",
       "              day_of_week_mon               day_of_week_thu \n",
       "                            0                             0 \n",
       "              day_of_week_tue               day_of_week_wed \n",
       "                            0                             0 \n",
       "               day_of_week_NA          poutcome_nonexistent \n",
       "                            0                             0 \n",
       "             poutcome_success                   poutcome_NA \n",
       "                            0                             0 "
      ]
     },
     "metadata": {},
     "output_type": "display_data"
    }
   ],
   "source": [
    "colSums(is.na(train))"
   ]
  },
  {
   "cell_type": "code",
   "execution_count": 736,
   "metadata": {},
   "outputs": [
    {
     "data": {
      "text/html": [
       "<table class=\"dataframe\">\n",
       "<caption>A data.frame: 6 × 64</caption>\n",
       "<thead>\n",
       "\t<tr><th></th><th scope=col>client_id</th><th scope=col>age</th><th scope=col>campaign</th><th scope=col>pdays</th><th scope=col>previous</th><th scope=col>emp.var.rate</th><th scope=col>cons.price.idx</th><th scope=col>cons.conf.idx</th><th scope=col>euribor3m</th><th scope=col>nr.employed</th><th scope=col>⋯</th><th scope=col>month_sep</th><th scope=col>month_NA</th><th scope=col>day_of_week_mon</th><th scope=col>day_of_week_thu</th><th scope=col>day_of_week_tue</th><th scope=col>day_of_week_wed</th><th scope=col>day_of_week_NA</th><th scope=col>poutcome_nonexistent</th><th scope=col>poutcome_success</th><th scope=col>poutcome_NA</th></tr>\n",
       "\t<tr><th></th><th scope=col>&lt;int&gt;</th><th scope=col>&lt;int&gt;</th><th scope=col>&lt;int&gt;</th><th scope=col>&lt;dbl&gt;</th><th scope=col>&lt;dbl&gt;</th><th scope=col>&lt;dbl&gt;</th><th scope=col>&lt;dbl&gt;</th><th scope=col>&lt;dbl&gt;</th><th scope=col>&lt;dbl&gt;</th><th scope=col>&lt;dbl&gt;</th><th scope=col>⋯</th><th scope=col>&lt;int&gt;</th><th scope=col>&lt;int&gt;</th><th scope=col>&lt;int&gt;</th><th scope=col>&lt;int&gt;</th><th scope=col>&lt;int&gt;</th><th scope=col>&lt;int&gt;</th><th scope=col>&lt;int&gt;</th><th scope=col>&lt;int&gt;</th><th scope=col>&lt;int&gt;</th><th scope=col>&lt;int&gt;</th></tr>\n",
       "</thead>\n",
       "<tbody>\n",
       "\t<tr><th scope=row>1</th><td>29925</td><td>42</td><td>1</td><td>999</td><td>0</td><td> 1.4</td><td>93.918</td><td>-42.7</td><td>4.968</td><td>5228.1</td><td>⋯</td><td>0</td><td>0</td><td>0</td><td>1</td><td>0</td><td>0</td><td>0</td><td>1</td><td>0</td><td>0</td></tr>\n",
       "\t<tr><th scope=row>2</th><td>37529</td><td>35</td><td>4</td><td>999</td><td>0</td><td> 1.4</td><td>94.465</td><td>-41.8</td><td>4.960</td><td>5228.1</td><td>⋯</td><td>0</td><td>0</td><td>1</td><td>0</td><td>0</td><td>0</td><td>0</td><td>1</td><td>0</td><td>0</td></tr>\n",
       "\t<tr><th scope=row>4</th><td> 9642</td><td>45</td><td>1</td><td>999</td><td>0</td><td>-1.8</td><td>93.075</td><td>-47.1</td><td>1.453</td><td>5099.1</td><td>⋯</td><td>0</td><td>0</td><td>0</td><td>0</td><td>1</td><td>0</td><td>0</td><td>1</td><td>0</td><td>0</td></tr>\n",
       "\t<tr><th scope=row>5</th><td>14183</td><td>45</td><td>1</td><td>999</td><td>0</td><td> 1.1</td><td>93.994</td><td>-36.4</td><td>4.859</td><td>5191.0</td><td>⋯</td><td>0</td><td>0</td><td>0</td><td>0</td><td>0</td><td>1</td><td>0</td><td>1</td><td>0</td><td>0</td></tr>\n",
       "\t<tr><th scope=row>6</th><td>15180</td><td>38</td><td>2</td><td>999</td><td>0</td><td> 1.1</td><td>93.994</td><td>-36.4</td><td>4.858</td><td>5191.0</td><td>⋯</td><td>0</td><td>0</td><td>0</td><td>0</td><td>0</td><td>1</td><td>0</td><td>1</td><td>0</td><td>0</td></tr>\n",
       "\t<tr><th scope=row>7</th><td>27168</td><td>33</td><td>1</td><td>999</td><td>1</td><td>-1.8</td><td>93.075</td><td>-47.1</td><td>1.405</td><td>5099.1</td><td>⋯</td><td>0</td><td>0</td><td>0</td><td>0</td><td>0</td><td>0</td><td>0</td><td>0</td><td>0</td><td>0</td></tr>\n",
       "</tbody>\n",
       "</table>\n"
      ],
      "text/latex": [
       "A data.frame: 6 × 64\n",
       "\\begin{tabular}{r|lllllllllllllllllllll}\n",
       "  & client\\_id & age & campaign & pdays & previous & emp.var.rate & cons.price.idx & cons.conf.idx & euribor3m & nr.employed & ⋯ & month\\_sep & month\\_NA & day\\_of\\_week\\_mon & day\\_of\\_week\\_thu & day\\_of\\_week\\_tue & day\\_of\\_week\\_wed & day\\_of\\_week\\_NA & poutcome\\_nonexistent & poutcome\\_success & poutcome\\_NA\\\\\n",
       "  & <int> & <int> & <int> & <dbl> & <dbl> & <dbl> & <dbl> & <dbl> & <dbl> & <dbl> & ⋯ & <int> & <int> & <int> & <int> & <int> & <int> & <int> & <int> & <int> & <int>\\\\\n",
       "\\hline\n",
       "\t1 & 29925 & 42 & 1 & 999 & 0 &  1.4 & 93.918 & -42.7 & 4.968 & 5228.1 & ⋯ & 0 & 0 & 0 & 1 & 0 & 0 & 0 & 1 & 0 & 0\\\\\n",
       "\t2 & 37529 & 35 & 4 & 999 & 0 &  1.4 & 94.465 & -41.8 & 4.960 & 5228.1 & ⋯ & 0 & 0 & 1 & 0 & 0 & 0 & 0 & 1 & 0 & 0\\\\\n",
       "\t4 &  9642 & 45 & 1 & 999 & 0 & -1.8 & 93.075 & -47.1 & 1.453 & 5099.1 & ⋯ & 0 & 0 & 0 & 0 & 1 & 0 & 0 & 1 & 0 & 0\\\\\n",
       "\t5 & 14183 & 45 & 1 & 999 & 0 &  1.1 & 93.994 & -36.4 & 4.859 & 5191.0 & ⋯ & 0 & 0 & 0 & 0 & 0 & 1 & 0 & 1 & 0 & 0\\\\\n",
       "\t6 & 15180 & 38 & 2 & 999 & 0 &  1.1 & 93.994 & -36.4 & 4.858 & 5191.0 & ⋯ & 0 & 0 & 0 & 0 & 0 & 1 & 0 & 1 & 0 & 0\\\\\n",
       "\t7 & 27168 & 33 & 1 & 999 & 1 & -1.8 & 93.075 & -47.1 & 1.405 & 5099.1 & ⋯ & 0 & 0 & 0 & 0 & 0 & 0 & 0 & 0 & 0 & 0\\\\\n",
       "\\end{tabular}\n"
      ],
      "text/markdown": [
       "\n",
       "A data.frame: 6 × 64\n",
       "\n",
       "| <!--/--> | client_id &lt;int&gt; | age &lt;int&gt; | campaign &lt;int&gt; | pdays &lt;dbl&gt; | previous &lt;dbl&gt; | emp.var.rate &lt;dbl&gt; | cons.price.idx &lt;dbl&gt; | cons.conf.idx &lt;dbl&gt; | euribor3m &lt;dbl&gt; | nr.employed &lt;dbl&gt; | ⋯ ⋯ | month_sep &lt;int&gt; | month_NA &lt;int&gt; | day_of_week_mon &lt;int&gt; | day_of_week_thu &lt;int&gt; | day_of_week_tue &lt;int&gt; | day_of_week_wed &lt;int&gt; | day_of_week_NA &lt;int&gt; | poutcome_nonexistent &lt;int&gt; | poutcome_success &lt;int&gt; | poutcome_NA &lt;int&gt; |\n",
       "|---|---|---|---|---|---|---|---|---|---|---|---|---|---|---|---|---|---|---|---|---|---|\n",
       "| 1 | 29925 | 42 | 1 | 999 | 0 |  1.4 | 93.918 | -42.7 | 4.968 | 5228.1 | ⋯ | 0 | 0 | 0 | 1 | 0 | 0 | 0 | 1 | 0 | 0 |\n",
       "| 2 | 37529 | 35 | 4 | 999 | 0 |  1.4 | 94.465 | -41.8 | 4.960 | 5228.1 | ⋯ | 0 | 0 | 1 | 0 | 0 | 0 | 0 | 1 | 0 | 0 |\n",
       "| 4 |  9642 | 45 | 1 | 999 | 0 | -1.8 | 93.075 | -47.1 | 1.453 | 5099.1 | ⋯ | 0 | 0 | 0 | 0 | 1 | 0 | 0 | 1 | 0 | 0 |\n",
       "| 5 | 14183 | 45 | 1 | 999 | 0 |  1.1 | 93.994 | -36.4 | 4.859 | 5191.0 | ⋯ | 0 | 0 | 0 | 0 | 0 | 1 | 0 | 1 | 0 | 0 |\n",
       "| 6 | 15180 | 38 | 2 | 999 | 0 |  1.1 | 93.994 | -36.4 | 4.858 | 5191.0 | ⋯ | 0 | 0 | 0 | 0 | 0 | 1 | 0 | 1 | 0 | 0 |\n",
       "| 7 | 27168 | 33 | 1 | 999 | 1 | -1.8 | 93.075 | -47.1 | 1.405 | 5099.1 | ⋯ | 0 | 0 | 0 | 0 | 0 | 0 | 0 | 0 | 0 | 0 |\n",
       "\n"
      ],
      "text/plain": [
       "  client_id age campaign pdays previous emp.var.rate cons.price.idx\n",
       "1 29925     42  1        999   0         1.4         93.918        \n",
       "2 37529     35  4        999   0         1.4         94.465        \n",
       "4  9642     45  1        999   0        -1.8         93.075        \n",
       "5 14183     45  1        999   0         1.1         93.994        \n",
       "6 15180     38  2        999   0         1.1         93.994        \n",
       "7 27168     33  1        999   1        -1.8         93.075        \n",
       "  cons.conf.idx euribor3m nr.employed <U+22EF>        month_sep month_NA\n",
       "1 -42.7         4.968     5228.1      <U+22EF> 0         0       \n",
       "2 -41.8         4.960     5228.1      <U+22EF> 0         0       \n",
       "4 -47.1         1.453     5099.1      <U+22EF> 0         0       \n",
       "5 -36.4         4.859     5191.0      <U+22EF> 0         0       \n",
       "6 -36.4         4.858     5191.0      <U+22EF> 0         0       \n",
       "7 -47.1         1.405     5099.1      <U+22EF> 0         0       \n",
       "  day_of_week_mon day_of_week_thu day_of_week_tue day_of_week_wed\n",
       "1 0               1               0               0              \n",
       "2 1               0               0               0              \n",
       "4 0               0               1               0              \n",
       "5 0               0               0               1              \n",
       "6 0               0               0               1              \n",
       "7 0               0               0               0              \n",
       "  day_of_week_NA poutcome_nonexistent poutcome_success poutcome_NA\n",
       "1 0              1                    0                0          \n",
       "2 0              1                    0                0          \n",
       "4 0              1                    0                0          \n",
       "5 0              1                    0                0          \n",
       "6 0              1                    0                0          \n",
       "7 0              0                    0                0          "
      ]
     },
     "metadata": {},
     "output_type": "display_data"
    }
   ],
   "source": [
    "# Show the train set\n",
    "head(train)"
   ]
  },
  {
   "cell_type": "code",
   "execution_count": 737,
   "metadata": {},
   "outputs": [
    {
     "data": {
      "text/plain": [
       "\n",
       "    0     1 \n",
       "12130  1583 "
      ]
     },
     "metadata": {},
     "output_type": "display_data"
    }
   ],
   "source": [
    "table(train$subscribe) #get the distribution of the target variable"
   ]
  },
  {
   "cell_type": "markdown",
   "metadata": {},
   "source": [
    "## Treating NA values in the test set\n",
    "following the same steps as for the train"
   ]
  },
  {
   "cell_type": "code",
   "execution_count": 738,
   "metadata": {},
   "outputs": [
    {
     "data": {
      "text/html": [
       "<style>\n",
       ".dl-inline {width: auto; margin:0; padding: 0}\n",
       ".dl-inline>dt, .dl-inline>dd {float: none; width: auto; display: inline-block}\n",
       ".dl-inline>dt::after {content: \":\\0020\"; padding-right: .5ex}\n",
       ".dl-inline>dt:not(:first-of-type) {padding-left: .5ex}\n",
       "</style><dl class=dl-inline><dt>client_id</dt><dd>0</dd><dt>age</dt><dd>59</dd><dt>job</dt><dd>47</dd><dt>marital</dt><dd>52</dd><dt>education</dt><dd>50</dd><dt>default</dt><dd>54</dd><dt>housing</dt><dd>62</dd><dt>loan</dt><dd>69</dd><dt>contact</dt><dd>65</dd><dt>month</dt><dd>52</dd><dt>day_of_week</dt><dd>54</dd><dt>campaign</dt><dd>58</dd><dt>pdays</dt><dd>49</dd><dt>previous</dt><dd>68</dd><dt>poutcome</dt><dd>51</dd><dt>emp.var.rate</dt><dd>49</dd><dt>cons.price.idx</dt><dd>49</dd><dt>cons.conf.idx</dt><dd>46</dd><dt>euribor3m</dt><dd>63</dd><dt>nr.employed</dt><dd>56</dd><dt>subscribe</dt><dd>0</dd></dl>\n"
      ],
      "text/latex": [
       "\\begin{description*}\n",
       "\\item[client\\textbackslash{}\\_id] 0\n",
       "\\item[age] 59\n",
       "\\item[job] 47\n",
       "\\item[marital] 52\n",
       "\\item[education] 50\n",
       "\\item[default] 54\n",
       "\\item[housing] 62\n",
       "\\item[loan] 69\n",
       "\\item[contact] 65\n",
       "\\item[month] 52\n",
       "\\item[day\\textbackslash{}\\_of\\textbackslash{}\\_week] 54\n",
       "\\item[campaign] 58\n",
       "\\item[pdays] 49\n",
       "\\item[previous] 68\n",
       "\\item[poutcome] 51\n",
       "\\item[emp.var.rate] 49\n",
       "\\item[cons.price.idx] 49\n",
       "\\item[cons.conf.idx] 46\n",
       "\\item[euribor3m] 63\n",
       "\\item[nr.employed] 56\n",
       "\\item[subscribe] 0\n",
       "\\end{description*}\n"
      ],
      "text/markdown": [
       "client_id\n",
       ":   0age\n",
       ":   59job\n",
       ":   47marital\n",
       ":   52education\n",
       ":   50default\n",
       ":   54housing\n",
       ":   62loan\n",
       ":   69contact\n",
       ":   65month\n",
       ":   52day_of_week\n",
       ":   54campaign\n",
       ":   58pdays\n",
       ":   49previous\n",
       ":   68poutcome\n",
       ":   51emp.var.rate\n",
       ":   49cons.price.idx\n",
       ":   49cons.conf.idx\n",
       ":   46euribor3m\n",
       ":   63nr.employed\n",
       ":   56subscribe\n",
       ":   0\n",
       "\n"
      ],
      "text/plain": [
       "     client_id            age            job        marital      education \n",
       "             0             59             47             52             50 \n",
       "       default        housing           loan        contact          month \n",
       "            54             62             69             65             52 \n",
       "   day_of_week       campaign          pdays       previous       poutcome \n",
       "            54             58             49             68             51 \n",
       "  emp.var.rate cons.price.idx  cons.conf.idx      euribor3m    nr.employed \n",
       "            49             49             46             63             56 \n",
       "     subscribe \n",
       "             0 "
      ]
     },
     "metadata": {},
     "output_type": "display_data"
    }
   ],
   "source": [
    "colSums(is.na(test))"
   ]
  },
  {
   "cell_type": "code",
   "execution_count": 739,
   "metadata": {},
   "outputs": [],
   "source": [
    "#replacing some NA containing variables to 0 \n",
    "cols =  c(\"emp.var.rate\",\"cons.price.idx\",\"cons.conf.idx\",\"euribor3m\",\"nr.employed\")\n",
    "for (i in cols){\n",
    "test[is.na(test[,i]), i] <- mean(test[,i], na.rm = TRUE)\n",
    "}"
   ]
  },
  {
   "cell_type": "code",
   "execution_count": 740,
   "metadata": {},
   "outputs": [],
   "source": [
    "#replacing pdays with 999 - no contact as most of the values are 999\n",
    "test$pdays[is.na(test$pdays)] = 999\n",
    "test$previous[is.na(test$previous)] = 0 # as most of the values are 0"
   ]
  },
  {
   "cell_type": "code",
   "execution_count": 741,
   "metadata": {},
   "outputs": [],
   "source": [
    "#dropping na observations in campaign and age\n",
    "test = test[complete.cases(test[ ,\"campaign\"]),]\n",
    "test = test[complete.cases(test[ ,\"age\"]),]"
   ]
  },
  {
   "cell_type": "code",
   "execution_count": 742,
   "metadata": {},
   "outputs": [
    {
     "data": {
      "text/html": [
       "<style>\n",
       ".dl-inline {width: auto; margin:0; padding: 0}\n",
       ".dl-inline>dt, .dl-inline>dd {float: none; width: auto; display: inline-block}\n",
       ".dl-inline>dt::after {content: \":\\0020\"; padding-right: .5ex}\n",
       ".dl-inline>dt:not(:first-of-type) {padding-left: .5ex}\n",
       "</style><dl class=dl-inline><dt>client_id</dt><dd>0</dd><dt>age</dt><dd>0</dd><dt>job</dt><dd>47</dd><dt>marital</dt><dd>51</dd><dt>education</dt><dd>50</dd><dt>default</dt><dd>54</dd><dt>housing</dt><dd>61</dd><dt>loan</dt><dd>65</dd><dt>contact</dt><dd>65</dd><dt>month</dt><dd>51</dd><dt>day_of_week</dt><dd>53</dd><dt>campaign</dt><dd>0</dd><dt>pdays</dt><dd>0</dd><dt>previous</dt><dd>0</dd><dt>poutcome</dt><dd>51</dd><dt>emp.var.rate</dt><dd>0</dd><dt>cons.price.idx</dt><dd>0</dd><dt>cons.conf.idx</dt><dd>0</dd><dt>euribor3m</dt><dd>0</dd><dt>nr.employed</dt><dd>0</dd><dt>subscribe</dt><dd>0</dd></dl>\n"
      ],
      "text/latex": [
       "\\begin{description*}\n",
       "\\item[client\\textbackslash{}\\_id] 0\n",
       "\\item[age] 0\n",
       "\\item[job] 47\n",
       "\\item[marital] 51\n",
       "\\item[education] 50\n",
       "\\item[default] 54\n",
       "\\item[housing] 61\n",
       "\\item[loan] 65\n",
       "\\item[contact] 65\n",
       "\\item[month] 51\n",
       "\\item[day\\textbackslash{}\\_of\\textbackslash{}\\_week] 53\n",
       "\\item[campaign] 0\n",
       "\\item[pdays] 0\n",
       "\\item[previous] 0\n",
       "\\item[poutcome] 51\n",
       "\\item[emp.var.rate] 0\n",
       "\\item[cons.price.idx] 0\n",
       "\\item[cons.conf.idx] 0\n",
       "\\item[euribor3m] 0\n",
       "\\item[nr.employed] 0\n",
       "\\item[subscribe] 0\n",
       "\\end{description*}\n"
      ],
      "text/markdown": [
       "client_id\n",
       ":   0age\n",
       ":   0job\n",
       ":   47marital\n",
       ":   51education\n",
       ":   50default\n",
       ":   54housing\n",
       ":   61loan\n",
       ":   65contact\n",
       ":   65month\n",
       ":   51day_of_week\n",
       ":   53campaign\n",
       ":   0pdays\n",
       ":   0previous\n",
       ":   0poutcome\n",
       ":   51emp.var.rate\n",
       ":   0cons.price.idx\n",
       ":   0cons.conf.idx\n",
       ":   0euribor3m\n",
       ":   0nr.employed\n",
       ":   0subscribe\n",
       ":   0\n",
       "\n"
      ],
      "text/plain": [
       "     client_id            age            job        marital      education \n",
       "             0              0             47             51             50 \n",
       "       default        housing           loan        contact          month \n",
       "            54             61             65             65             51 \n",
       "   day_of_week       campaign          pdays       previous       poutcome \n",
       "            53              0              0              0             51 \n",
       "  emp.var.rate cons.price.idx  cons.conf.idx      euribor3m    nr.employed \n",
       "             0              0              0              0              0 \n",
       "     subscribe \n",
       "             0 "
      ]
     },
     "metadata": {},
     "output_type": "display_data"
    }
   ],
   "source": [
    "colSums(is.na(test))"
   ]
  },
  {
   "cell_type": "code",
   "execution_count": 743,
   "metadata": {},
   "outputs": [
    {
     "data": {
      "text/html": [
       "<style>\n",
       ".list-inline {list-style: none; margin:0; padding: 0}\n",
       ".list-inline>li {display: inline-block}\n",
       ".list-inline>li:not(:last-child)::after {content: \"\\00b7\"; padding: 0 .5ex}\n",
       "</style>\n",
       "<ol class=list-inline><li>'job'</li><li>'marital'</li><li>'education'</li><li>'default'</li><li>'housing'</li><li>'loan'</li><li>'contact'</li><li>'month'</li><li>'day_of_week'</li><li>'poutcome'</li></ol>\n"
      ],
      "text/latex": [
       "\\begin{enumerate*}\n",
       "\\item 'job'\n",
       "\\item 'marital'\n",
       "\\item 'education'\n",
       "\\item 'default'\n",
       "\\item 'housing'\n",
       "\\item 'loan'\n",
       "\\item 'contact'\n",
       "\\item 'month'\n",
       "\\item 'day\\_of\\_week'\n",
       "\\item 'poutcome'\n",
       "\\end{enumerate*}\n"
      ],
      "text/markdown": [
       "1. 'job'\n",
       "2. 'marital'\n",
       "3. 'education'\n",
       "4. 'default'\n",
       "5. 'housing'\n",
       "6. 'loan'\n",
       "7. 'contact'\n",
       "8. 'month'\n",
       "9. 'day_of_week'\n",
       "10. 'poutcome'\n",
       "\n",
       "\n"
      ],
      "text/plain": [
       " [1] \"job\"         \"marital\"     \"education\"   \"default\"     \"housing\"    \n",
       " [6] \"loan\"        \"contact\"     \"month\"       \"day_of_week\" \"poutcome\"   "
      ]
     },
     "metadata": {},
     "output_type": "display_data"
    }
   ],
   "source": [
    "# Get list of categorical variables in the train set\n",
    "var_list <- names(test[, 1:(ncol(test)-1)])\n",
    "cat_list <- var_list[sapply(test[, var_list], class) == 'character']\n",
    "cat_list"
   ]
  },
  {
   "cell_type": "code",
   "execution_count": 744,
   "metadata": {},
   "outputs": [],
   "source": [
    "# Convert categorical variables to dummy variables\n",
    "dummy_list <- list()\n",
    "for (v in cat_list) {\n",
    "    # Create dummy variables\n",
    "    tmp <- dummy(v, data=test, sep=\"_\", drop=TRUE)\n",
    "    # Drop the 1st column\n",
    "    tmp <- tmp[, 2:ncol(tmp), drop=FALSE]\n",
    "    # Store the results\n",
    "    dummy_list[[length(dummy_list)+1]] <- tmp\n",
    "}\n",
    "\n",
    "# Combine the dummy variables\n",
    "dummy_df <- do.call(cbind, dummy_list)\n",
    "\n",
    "# Add the dummy variables to the data frame\n",
    "test <- cbind(test, dummy_df)\n",
    "\n",
    "# Drop the original variable\n",
    "test <- test[, !(names(test) %in% cat_list)]"
   ]
  },
  {
   "cell_type": "code",
   "execution_count": 745,
   "metadata": {},
   "outputs": [
    {
     "data": {
      "text/html": [
       "0"
      ],
      "text/latex": [
       "0"
      ],
      "text/markdown": [
       "0"
      ],
      "text/plain": [
       "[1] 0"
      ]
     },
     "metadata": {},
     "output_type": "display_data"
    }
   ],
   "source": [
    "sum(is.na(test))"
   ]
  },
  {
   "cell_type": "code",
   "execution_count": 746,
   "metadata": {},
   "outputs": [
    {
     "data": {
      "text/html": [
       "<style>\n",
       ".list-inline {list-style: none; margin:0; padding: 0}\n",
       ".list-inline>li {display: inline-block}\n",
       ".list-inline>li:not(:last-child)::after {content: \"\\00b7\"; padding: 0 .5ex}\n",
       "</style>\n",
       "<ol class=list-inline><li>5883</li><li>63</li></ol>\n"
      ],
      "text/latex": [
       "\\begin{enumerate*}\n",
       "\\item 5883\n",
       "\\item 63\n",
       "\\end{enumerate*}\n"
      ],
      "text/markdown": [
       "1. 5883\n",
       "2. 63\n",
       "\n",
       "\n"
      ],
      "text/plain": [
       "[1] 5883   63"
      ]
     },
     "metadata": {},
     "output_type": "display_data"
    }
   ],
   "source": [
    "dim(test)"
   ]
  },
  {
   "cell_type": "code",
   "execution_count": 747,
   "metadata": {},
   "outputs": [
    {
     "data": {
      "text/html": [
       "<table class=\"dataframe\">\n",
       "<caption>A data.frame: 6 × 63</caption>\n",
       "<thead>\n",
       "\t<tr><th></th><th scope=col>client_id</th><th scope=col>age</th><th scope=col>campaign</th><th scope=col>pdays</th><th scope=col>previous</th><th scope=col>emp.var.rate</th><th scope=col>cons.price.idx</th><th scope=col>cons.conf.idx</th><th scope=col>euribor3m</th><th scope=col>nr.employed</th><th scope=col>⋯</th><th scope=col>month_sep</th><th scope=col>month_NA</th><th scope=col>day_of_week_mon</th><th scope=col>day_of_week_thu</th><th scope=col>day_of_week_tue</th><th scope=col>day_of_week_wed</th><th scope=col>day_of_week_NA</th><th scope=col>poutcome_nonexistent</th><th scope=col>poutcome_success</th><th scope=col>poutcome_NA</th></tr>\n",
       "\t<tr><th></th><th scope=col>&lt;int&gt;</th><th scope=col>&lt;int&gt;</th><th scope=col>&lt;int&gt;</th><th scope=col>&lt;dbl&gt;</th><th scope=col>&lt;dbl&gt;</th><th scope=col>&lt;dbl&gt;</th><th scope=col>&lt;dbl&gt;</th><th scope=col>&lt;dbl&gt;</th><th scope=col>&lt;dbl&gt;</th><th scope=col>&lt;dbl&gt;</th><th scope=col>⋯</th><th scope=col>&lt;int&gt;</th><th scope=col>&lt;int&gt;</th><th scope=col>&lt;int&gt;</th><th scope=col>&lt;int&gt;</th><th scope=col>&lt;int&gt;</th><th scope=col>&lt;int&gt;</th><th scope=col>&lt;int&gt;</th><th scope=col>&lt;int&gt;</th><th scope=col>&lt;int&gt;</th><th scope=col>&lt;int&gt;</th></tr>\n",
       "</thead>\n",
       "<tbody>\n",
       "\t<tr><th scope=row>3</th><td> 2757</td><td>44</td><td>1</td><td>999</td><td>0</td><td>-1.8</td><td>92.893</td><td>-46.2</td><td>1.264</td><td>5099.1</td><td>⋯</td><td>0</td><td>0</td><td>1</td><td>0</td><td>0</td><td>0</td><td>0</td><td>1</td><td>0</td><td>0</td></tr>\n",
       "\t<tr><th scope=row>8</th><td> 9097</td><td>38</td><td>1</td><td>999</td><td>0</td><td> 1.1</td><td>93.994</td><td>-36.4</td><td>4.857</td><td>5191.0</td><td>⋯</td><td>0</td><td>0</td><td>0</td><td>0</td><td>0</td><td>1</td><td>0</td><td>1</td><td>0</td><td>0</td></tr>\n",
       "\t<tr><th scope=row>12</th><td>13536</td><td>30</td><td>1</td><td>999</td><td>0</td><td> 1.4</td><td>93.918</td><td>-42.7</td><td>4.963</td><td>5228.1</td><td>⋯</td><td>0</td><td>0</td><td>0</td><td>1</td><td>0</td><td>0</td><td>0</td><td>1</td><td>0</td><td>0</td></tr>\n",
       "\t<tr><th scope=row>19</th><td> 7284</td><td>35</td><td>1</td><td>999</td><td>0</td><td> 1.1</td><td>93.994</td><td>-36.4</td><td>4.858</td><td>5191.0</td><td>⋯</td><td>0</td><td>0</td><td>0</td><td>0</td><td>0</td><td>1</td><td>0</td><td>1</td><td>0</td><td>0</td></tr>\n",
       "\t<tr><th scope=row>23</th><td>33523</td><td>32</td><td>1</td><td>999</td><td>0</td><td>-1.8</td><td>92.893</td><td>-46.2</td><td>1.281</td><td>5099.1</td><td>⋯</td><td>0</td><td>0</td><td>0</td><td>0</td><td>0</td><td>1</td><td>0</td><td>1</td><td>0</td><td>0</td></tr>\n",
       "\t<tr><th scope=row>24</th><td>21812</td><td>49</td><td>1</td><td>999</td><td>0</td><td> 1.1</td><td>93.994</td><td>-36.4</td><td>4.856</td><td>5191.0</td><td>⋯</td><td>0</td><td>0</td><td>0</td><td>0</td><td>1</td><td>0</td><td>0</td><td>1</td><td>0</td><td>0</td></tr>\n",
       "</tbody>\n",
       "</table>\n"
      ],
      "text/latex": [
       "A data.frame: 6 × 63\n",
       "\\begin{tabular}{r|lllllllllllllllllllll}\n",
       "  & client\\_id & age & campaign & pdays & previous & emp.var.rate & cons.price.idx & cons.conf.idx & euribor3m & nr.employed & ⋯ & month\\_sep & month\\_NA & day\\_of\\_week\\_mon & day\\_of\\_week\\_thu & day\\_of\\_week\\_tue & day\\_of\\_week\\_wed & day\\_of\\_week\\_NA & poutcome\\_nonexistent & poutcome\\_success & poutcome\\_NA\\\\\n",
       "  & <int> & <int> & <int> & <dbl> & <dbl> & <dbl> & <dbl> & <dbl> & <dbl> & <dbl> & ⋯ & <int> & <int> & <int> & <int> & <int> & <int> & <int> & <int> & <int> & <int>\\\\\n",
       "\\hline\n",
       "\t3 &  2757 & 44 & 1 & 999 & 0 & -1.8 & 92.893 & -46.2 & 1.264 & 5099.1 & ⋯ & 0 & 0 & 1 & 0 & 0 & 0 & 0 & 1 & 0 & 0\\\\\n",
       "\t8 &  9097 & 38 & 1 & 999 & 0 &  1.1 & 93.994 & -36.4 & 4.857 & 5191.0 & ⋯ & 0 & 0 & 0 & 0 & 0 & 1 & 0 & 1 & 0 & 0\\\\\n",
       "\t12 & 13536 & 30 & 1 & 999 & 0 &  1.4 & 93.918 & -42.7 & 4.963 & 5228.1 & ⋯ & 0 & 0 & 0 & 1 & 0 & 0 & 0 & 1 & 0 & 0\\\\\n",
       "\t19 &  7284 & 35 & 1 & 999 & 0 &  1.1 & 93.994 & -36.4 & 4.858 & 5191.0 & ⋯ & 0 & 0 & 0 & 0 & 0 & 1 & 0 & 1 & 0 & 0\\\\\n",
       "\t23 & 33523 & 32 & 1 & 999 & 0 & -1.8 & 92.893 & -46.2 & 1.281 & 5099.1 & ⋯ & 0 & 0 & 0 & 0 & 0 & 1 & 0 & 1 & 0 & 0\\\\\n",
       "\t24 & 21812 & 49 & 1 & 999 & 0 &  1.1 & 93.994 & -36.4 & 4.856 & 5191.0 & ⋯ & 0 & 0 & 0 & 0 & 1 & 0 & 0 & 1 & 0 & 0\\\\\n",
       "\\end{tabular}\n"
      ],
      "text/markdown": [
       "\n",
       "A data.frame: 6 × 63\n",
       "\n",
       "| <!--/--> | client_id &lt;int&gt; | age &lt;int&gt; | campaign &lt;int&gt; | pdays &lt;dbl&gt; | previous &lt;dbl&gt; | emp.var.rate &lt;dbl&gt; | cons.price.idx &lt;dbl&gt; | cons.conf.idx &lt;dbl&gt; | euribor3m &lt;dbl&gt; | nr.employed &lt;dbl&gt; | ⋯ ⋯ | month_sep &lt;int&gt; | month_NA &lt;int&gt; | day_of_week_mon &lt;int&gt; | day_of_week_thu &lt;int&gt; | day_of_week_tue &lt;int&gt; | day_of_week_wed &lt;int&gt; | day_of_week_NA &lt;int&gt; | poutcome_nonexistent &lt;int&gt; | poutcome_success &lt;int&gt; | poutcome_NA &lt;int&gt; |\n",
       "|---|---|---|---|---|---|---|---|---|---|---|---|---|---|---|---|---|---|---|---|---|---|\n",
       "| 3 |  2757 | 44 | 1 | 999 | 0 | -1.8 | 92.893 | -46.2 | 1.264 | 5099.1 | ⋯ | 0 | 0 | 1 | 0 | 0 | 0 | 0 | 1 | 0 | 0 |\n",
       "| 8 |  9097 | 38 | 1 | 999 | 0 |  1.1 | 93.994 | -36.4 | 4.857 | 5191.0 | ⋯ | 0 | 0 | 0 | 0 | 0 | 1 | 0 | 1 | 0 | 0 |\n",
       "| 12 | 13536 | 30 | 1 | 999 | 0 |  1.4 | 93.918 | -42.7 | 4.963 | 5228.1 | ⋯ | 0 | 0 | 0 | 1 | 0 | 0 | 0 | 1 | 0 | 0 |\n",
       "| 19 |  7284 | 35 | 1 | 999 | 0 |  1.1 | 93.994 | -36.4 | 4.858 | 5191.0 | ⋯ | 0 | 0 | 0 | 0 | 0 | 1 | 0 | 1 | 0 | 0 |\n",
       "| 23 | 33523 | 32 | 1 | 999 | 0 | -1.8 | 92.893 | -46.2 | 1.281 | 5099.1 | ⋯ | 0 | 0 | 0 | 0 | 0 | 1 | 0 | 1 | 0 | 0 |\n",
       "| 24 | 21812 | 49 | 1 | 999 | 0 |  1.1 | 93.994 | -36.4 | 4.856 | 5191.0 | ⋯ | 0 | 0 | 0 | 0 | 1 | 0 | 0 | 1 | 0 | 0 |\n",
       "\n"
      ],
      "text/plain": [
       "   client_id age campaign pdays previous emp.var.rate cons.price.idx\n",
       "3   2757     44  1        999   0        -1.8         92.893        \n",
       "8   9097     38  1        999   0         1.1         93.994        \n",
       "12 13536     30  1        999   0         1.4         93.918        \n",
       "19  7284     35  1        999   0         1.1         93.994        \n",
       "23 33523     32  1        999   0        -1.8         92.893        \n",
       "24 21812     49  1        999   0         1.1         93.994        \n",
       "   cons.conf.idx euribor3m nr.employed <U+22EF>        month_sep month_NA\n",
       "3  -46.2         1.264     5099.1      <U+22EF> 0         0       \n",
       "8  -36.4         4.857     5191.0      <U+22EF> 0         0       \n",
       "12 -42.7         4.963     5228.1      <U+22EF> 0         0       \n",
       "19 -36.4         4.858     5191.0      <U+22EF> 0         0       \n",
       "23 -46.2         1.281     5099.1      <U+22EF> 0         0       \n",
       "24 -36.4         4.856     5191.0      <U+22EF> 0         0       \n",
       "   day_of_week_mon day_of_week_thu day_of_week_tue day_of_week_wed\n",
       "3  1               0               0               0              \n",
       "8  0               0               0               1              \n",
       "12 0               1               0               0              \n",
       "19 0               0               0               1              \n",
       "23 0               0               0               1              \n",
       "24 0               0               1               0              \n",
       "   day_of_week_NA poutcome_nonexistent poutcome_success poutcome_NA\n",
       "3  0              1                    0                0          \n",
       "8  0              1                    0                0          \n",
       "12 0              1                    0                0          \n",
       "19 0              1                    0                0          \n",
       "23 0              1                    0                0          \n",
       "24 0              1                    0                0          "
      ]
     },
     "metadata": {},
     "output_type": "display_data"
    }
   ],
   "source": [
    "# Show the train set\n",
    "head(test)"
   ]
  },
  {
   "cell_type": "code",
   "execution_count": 748,
   "metadata": {},
   "outputs": [
    {
     "data": {
      "text/plain": [
       "\n",
       "   0    1 \n",
       "5236  647 "
      ]
     },
     "metadata": {},
     "output_type": "display_data"
    }
   ],
   "source": [
    "table(test$subscribe)"
   ]
  },
  {
   "cell_type": "markdown",
   "metadata": {},
   "source": [
    "## Stepwise feature selection"
   ]
  },
  {
   "cell_type": "code",
   "execution_count": 749,
   "metadata": {
    "scrolled": false
   },
   "outputs": [
    {
     "data": {
      "text/html": [
       "<table class=\"dataframe\">\n",
       "<caption>A data.frame: 64 × 7</caption>\n",
       "<thead>\n",
       "\t<tr><th></th><th scope=col>nvmax</th><th scope=col>RMSE</th><th scope=col>Rsquared</th><th scope=col>MAE</th><th scope=col>RMSESD</th><th scope=col>RsquaredSD</th><th scope=col>MAESD</th></tr>\n",
       "\t<tr><th></th><th scope=col>&lt;int&gt;</th><th scope=col>&lt;dbl&gt;</th><th scope=col>&lt;dbl&gt;</th><th scope=col>&lt;dbl&gt;</th><th scope=col>&lt;dbl&gt;</th><th scope=col>&lt;dbl&gt;</th><th scope=col>&lt;dbl&gt;</th></tr>\n",
       "</thead>\n",
       "<tbody>\n",
       "\t<tr><th scope=row>1</th><td> 1</td><td>0.2995682</td><td>0.1224753</td><td>0.1796255</td><td>0.011051973</td><td>0.03399925</td><td>0.006534059</td></tr>\n",
       "\t<tr><th scope=row>2</th><td> 2</td><td>0.2915361</td><td>0.1683550</td><td>0.1700516</td><td>0.009928656</td><td>0.03467262</td><td>0.005863137</td></tr>\n",
       "\t<tr><th scope=row>3</th><td> 3</td><td>0.2881495</td><td>0.1875697</td><td>0.1661000</td><td>0.009661797</td><td>0.03863934</td><td>0.006517532</td></tr>\n",
       "\t<tr><th scope=row>4</th><td> 4</td><td>0.2877351</td><td>0.1899576</td><td>0.1653168</td><td>0.009467465</td><td>0.03578235</td><td>0.006331945</td></tr>\n",
       "\t<tr><th scope=row>5</th><td> 5</td><td>0.2870005</td><td>0.1941080</td><td>0.1645731</td><td>0.010121758</td><td>0.03532056</td><td>0.006531532</td></tr>\n",
       "\t<tr><th scope=row>6</th><td> 6</td><td>0.2868101</td><td>0.1954040</td><td>0.1642506</td><td>0.010230601</td><td>0.03778650</td><td>0.006460860</td></tr>\n",
       "\t<tr><th scope=row>7</th><td> 7</td><td>0.2865106</td><td>0.1973288</td><td>0.1639406</td><td>0.010303629</td><td>0.04003086</td><td>0.006543044</td></tr>\n",
       "\t<tr><th scope=row>8</th><td> 8</td><td>0.2866185</td><td>0.1967367</td><td>0.1639186</td><td>0.010301692</td><td>0.04009437</td><td>0.006494836</td></tr>\n",
       "\t<tr><th scope=row>9</th><td> 9</td><td>0.2862604</td><td>0.1987662</td><td>0.1636004</td><td>0.010372887</td><td>0.04052264</td><td>0.006409886</td></tr>\n",
       "\t<tr><th scope=row>10</th><td>10</td><td>0.2861991</td><td>0.1991293</td><td>0.1635894</td><td>0.010319911</td><td>0.04084689</td><td>0.006260657</td></tr>\n",
       "\t<tr><th scope=row>11</th><td>11</td><td>0.2860705</td><td>0.1998753</td><td>0.1634679</td><td>0.010320793</td><td>0.04104881</td><td>0.006286762</td></tr>\n",
       "\t<tr><th scope=row>12</th><td>12</td><td>0.2861201</td><td>0.1995611</td><td>0.1634216</td><td>0.010265076</td><td>0.04090898</td><td>0.006216949</td></tr>\n",
       "\t<tr><th scope=row>13</th><td>13</td><td>0.2861555</td><td>0.1993572</td><td>0.1633930</td><td>0.010312964</td><td>0.04055690</td><td>0.006224360</td></tr>\n",
       "\t<tr><th scope=row>14</th><td>14</td><td>0.2861651</td><td>0.1992943</td><td>0.1634119</td><td>0.010353737</td><td>0.04031878</td><td>0.006260258</td></tr>\n",
       "\t<tr><th scope=row>15</th><td>15</td><td>0.2861325</td><td>0.1995357</td><td>0.1633363</td><td>0.010349963</td><td>0.04009561</td><td>0.006195481</td></tr>\n",
       "\t<tr><th scope=row>16</th><td>16</td><td>0.2860973</td><td>0.1997339</td><td>0.1633045</td><td>0.010366066</td><td>0.03987244</td><td>0.006212850</td></tr>\n",
       "\t<tr><th scope=row>17</th><td>17</td><td>0.2860019</td><td>0.2002944</td><td>0.1632518</td><td>0.010350421</td><td>0.04018557</td><td>0.006149127</td></tr>\n",
       "\t<tr><th scope=row>18</th><td>18</td><td>0.2859654</td><td>0.2004657</td><td>0.1631839</td><td>0.010214891</td><td>0.04015460</td><td>0.006104404</td></tr>\n",
       "\t<tr><th scope=row>19</th><td>19</td><td>0.2859681</td><td>0.2004624</td><td>0.1631331</td><td>0.010189074</td><td>0.03977464</td><td>0.006129033</td></tr>\n",
       "\t<tr><th scope=row>20</th><td>20</td><td>0.2858833</td><td>0.2009514</td><td>0.1630628</td><td>0.010250961</td><td>0.03980490</td><td>0.006165619</td></tr>\n",
       "\t<tr><th scope=row>21</th><td>21</td><td>0.2857954</td><td>0.2014616</td><td>0.1630146</td><td>0.010304966</td><td>0.04021250</td><td>0.006189183</td></tr>\n",
       "\t<tr><th scope=row>22</th><td>22</td><td>0.2858266</td><td>0.2013456</td><td>0.1630404</td><td>0.010334354</td><td>0.04026691</td><td>0.006219708</td></tr>\n",
       "\t<tr><th scope=row>23</th><td>23</td><td>0.2858574</td><td>0.2011714</td><td>0.1630346</td><td>0.010285638</td><td>0.04007645</td><td>0.006199950</td></tr>\n",
       "\t<tr><th scope=row>24</th><td>24</td><td>0.2858328</td><td>0.2013298</td><td>0.1630654</td><td>0.010273400</td><td>0.04009457</td><td>0.006175922</td></tr>\n",
       "\t<tr><th scope=row>25</th><td>25</td><td>0.2858363</td><td>0.2012845</td><td>0.1630334</td><td>0.010267702</td><td>0.03990390</td><td>0.006191177</td></tr>\n",
       "\t<tr><th scope=row>26</th><td>26</td><td>0.2858668</td><td>0.2011066</td><td>0.1630808</td><td>0.010267759</td><td>0.03973764</td><td>0.006199885</td></tr>\n",
       "\t<tr><th scope=row>27</th><td>27</td><td>0.2858730</td><td>0.2010871</td><td>0.1630733</td><td>0.010324168</td><td>0.03989152</td><td>0.006271829</td></tr>\n",
       "\t<tr><th scope=row>28</th><td>28</td><td>0.2858958</td><td>0.2009407</td><td>0.1630943</td><td>0.010281942</td><td>0.03958553</td><td>0.006242238</td></tr>\n",
       "\t<tr><th scope=row>29</th><td>29</td><td>0.2859135</td><td>0.2008618</td><td>0.1630860</td><td>0.010322480</td><td>0.03970557</td><td>0.006270100</td></tr>\n",
       "\t<tr><th scope=row>30</th><td>30</td><td>0.2858960</td><td>0.2009557</td><td>0.1630850</td><td>0.010253284</td><td>0.03954483</td><td>0.006231260</td></tr>\n",
       "\t<tr><th scope=row>⋮</th><td>⋮</td><td>⋮</td><td>⋮</td><td>⋮</td><td>⋮</td><td>⋮</td><td>⋮</td></tr>\n",
       "\t<tr><th scope=row>35</th><td>35</td><td>0.2860362</td><td>0.2001728</td><td>0.1631546</td><td>0.01025754</td><td>0.03909154</td><td>0.006232348</td></tr>\n",
       "\t<tr><th scope=row>36</th><td>36</td><td>0.2860666</td><td>0.1999993</td><td>0.1631705</td><td>0.01025239</td><td>0.03898035</td><td>0.006241848</td></tr>\n",
       "\t<tr><th scope=row>37</th><td>37</td><td>0.2860695</td><td>0.1999827</td><td>0.1631560</td><td>0.01024677</td><td>0.03898526</td><td>0.006253107</td></tr>\n",
       "\t<tr><th scope=row>38</th><td>38</td><td>0.2860676</td><td>0.1999853</td><td>0.1631370</td><td>0.01025412</td><td>0.03894024</td><td>0.006267901</td></tr>\n",
       "\t<tr><th scope=row>39</th><td>39</td><td>0.2860920</td><td>0.1998386</td><td>0.1631558</td><td>0.01024048</td><td>0.03880613</td><td>0.006239696</td></tr>\n",
       "\t<tr><th scope=row>40</th><td>40</td><td>0.2860865</td><td>0.1998767</td><td>0.1631548</td><td>0.01024418</td><td>0.03892164</td><td>0.006231810</td></tr>\n",
       "\t<tr><th scope=row>41</th><td>41</td><td>0.2860965</td><td>0.1998249</td><td>0.1631708</td><td>0.01022777</td><td>0.03893873</td><td>0.006237970</td></tr>\n",
       "\t<tr><th scope=row>42</th><td>42</td><td>0.2861250</td><td>0.1996807</td><td>0.1631940</td><td>0.01022703</td><td>0.03891662</td><td>0.006226994</td></tr>\n",
       "\t<tr><th scope=row>43</th><td>43</td><td>0.2861161</td><td>0.1997298</td><td>0.1631939</td><td>0.01021212</td><td>0.03901778</td><td>0.006213396</td></tr>\n",
       "\t<tr><th scope=row>44</th><td>44</td><td>0.2861135</td><td>0.1997411</td><td>0.1632090</td><td>0.01019682</td><td>0.03902811</td><td>0.006199225</td></tr>\n",
       "\t<tr><th scope=row>45</th><td>45</td><td>0.2861147</td><td>0.1997356</td><td>0.1632036</td><td>0.01019008</td><td>0.03904324</td><td>0.006208842</td></tr>\n",
       "\t<tr><th scope=row>46</th><td>46</td><td>0.2861255</td><td>0.1996789</td><td>0.1632059</td><td>0.01019975</td><td>0.03904802</td><td>0.006200358</td></tr>\n",
       "\t<tr><th scope=row>47</th><td>47</td><td>0.2861323</td><td>0.1996500</td><td>0.1632151</td><td>0.01020865</td><td>0.03909092</td><td>0.006195529</td></tr>\n",
       "\t<tr><th scope=row>48</th><td>48</td><td>0.2861333</td><td>0.1996477</td><td>0.1632226</td><td>0.01019956</td><td>0.03914670</td><td>0.006194268</td></tr>\n",
       "\t<tr><th scope=row>49</th><td>49</td><td>0.2861344</td><td>0.1996421</td><td>0.1632224</td><td>0.01018990</td><td>0.03913933</td><td>0.006185791</td></tr>\n",
       "\t<tr><th scope=row>50</th><td>50</td><td>0.2861374</td><td>0.1996268</td><td>0.1632270</td><td>0.01019370</td><td>0.03914420</td><td>0.006185918</td></tr>\n",
       "\t<tr><th scope=row>51</th><td>51</td><td>0.2861339</td><td>0.1996418</td><td>0.1632223</td><td>0.01019783</td><td>0.03913517</td><td>0.006187053</td></tr>\n",
       "\t<tr><th scope=row>52</th><td>52</td><td>0.2861395</td><td>0.1996136</td><td>0.1632207</td><td>0.01020403</td><td>0.03912705</td><td>0.006185729</td></tr>\n",
       "\t<tr><th scope=row>53</th><td>53</td><td>0.2861457</td><td>0.1995740</td><td>0.1632234</td><td>0.01020667</td><td>0.03910807</td><td>0.006189214</td></tr>\n",
       "\t<tr><th scope=row>54</th><td>54</td><td>0.2861441</td><td>0.1995707</td><td>0.1632171</td><td>0.01020382</td><td>0.03908736</td><td>0.006193945</td></tr>\n",
       "\t<tr><th scope=row>55</th><td>55</td><td>0.2861507</td><td>0.1995381</td><td>0.1632210</td><td>0.01020638</td><td>0.03908899</td><td>0.006198468</td></tr>\n",
       "\t<tr><th scope=row>56</th><td>56</td><td>0.2861489</td><td>0.1995512</td><td>0.1632191</td><td>0.01020781</td><td>0.03908425</td><td>0.006201489</td></tr>\n",
       "\t<tr><th scope=row>57</th><td>57</td><td>0.2861453</td><td>0.1995672</td><td>0.1632127</td><td>0.01020587</td><td>0.03913739</td><td>0.006204064</td></tr>\n",
       "\t<tr><th scope=row>58</th><td>58</td><td>0.2861383</td><td>0.1996021</td><td>0.1632099</td><td>0.01020275</td><td>0.03913714</td><td>0.006201472</td></tr>\n",
       "\t<tr><th scope=row>59</th><td>59</td><td>0.2861381</td><td>0.1996056</td><td>0.1632095</td><td>0.01020629</td><td>0.03914835</td><td>0.006201319</td></tr>\n",
       "\t<tr><th scope=row>60</th><td>60</td><td>0.2861425</td><td>0.1995800</td><td>0.1632104</td><td>0.01020553</td><td>0.03913530</td><td>0.006203424</td></tr>\n",
       "\t<tr><th scope=row>61</th><td>61</td><td>0.2861406</td><td>0.1995898</td><td>0.1632084</td><td>0.01020907</td><td>0.03913442</td><td>0.006204954</td></tr>\n",
       "\t<tr><th scope=row>62</th><td>62</td><td>0.2861400</td><td>0.1995928</td><td>0.1632077</td><td>0.01020951</td><td>0.03914272</td><td>0.006205972</td></tr>\n",
       "\t<tr><th scope=row>63</th><td>63</td><td>0.2861397</td><td>0.1995939</td><td>0.1632064</td><td>0.01020963</td><td>0.03913909</td><td>0.006206887</td></tr>\n",
       "\t<tr><th scope=row>64</th><td>64</td><td>0.2861397</td><td>0.1995939</td><td>0.1632064</td><td>0.01020963</td><td>0.03913909</td><td>0.006206887</td></tr>\n",
       "</tbody>\n",
       "</table>\n"
      ],
      "text/latex": [
       "A data.frame: 64 × 7\n",
       "\\begin{tabular}{r|lllllll}\n",
       "  & nvmax & RMSE & Rsquared & MAE & RMSESD & RsquaredSD & MAESD\\\\\n",
       "  & <int> & <dbl> & <dbl> & <dbl> & <dbl> & <dbl> & <dbl>\\\\\n",
       "\\hline\n",
       "\t1 &  1 & 0.2995682 & 0.1224753 & 0.1796255 & 0.011051973 & 0.03399925 & 0.006534059\\\\\n",
       "\t2 &  2 & 0.2915361 & 0.1683550 & 0.1700516 & 0.009928656 & 0.03467262 & 0.005863137\\\\\n",
       "\t3 &  3 & 0.2881495 & 0.1875697 & 0.1661000 & 0.009661797 & 0.03863934 & 0.006517532\\\\\n",
       "\t4 &  4 & 0.2877351 & 0.1899576 & 0.1653168 & 0.009467465 & 0.03578235 & 0.006331945\\\\\n",
       "\t5 &  5 & 0.2870005 & 0.1941080 & 0.1645731 & 0.010121758 & 0.03532056 & 0.006531532\\\\\n",
       "\t6 &  6 & 0.2868101 & 0.1954040 & 0.1642506 & 0.010230601 & 0.03778650 & 0.006460860\\\\\n",
       "\t7 &  7 & 0.2865106 & 0.1973288 & 0.1639406 & 0.010303629 & 0.04003086 & 0.006543044\\\\\n",
       "\t8 &  8 & 0.2866185 & 0.1967367 & 0.1639186 & 0.010301692 & 0.04009437 & 0.006494836\\\\\n",
       "\t9 &  9 & 0.2862604 & 0.1987662 & 0.1636004 & 0.010372887 & 0.04052264 & 0.006409886\\\\\n",
       "\t10 & 10 & 0.2861991 & 0.1991293 & 0.1635894 & 0.010319911 & 0.04084689 & 0.006260657\\\\\n",
       "\t11 & 11 & 0.2860705 & 0.1998753 & 0.1634679 & 0.010320793 & 0.04104881 & 0.006286762\\\\\n",
       "\t12 & 12 & 0.2861201 & 0.1995611 & 0.1634216 & 0.010265076 & 0.04090898 & 0.006216949\\\\\n",
       "\t13 & 13 & 0.2861555 & 0.1993572 & 0.1633930 & 0.010312964 & 0.04055690 & 0.006224360\\\\\n",
       "\t14 & 14 & 0.2861651 & 0.1992943 & 0.1634119 & 0.010353737 & 0.04031878 & 0.006260258\\\\\n",
       "\t15 & 15 & 0.2861325 & 0.1995357 & 0.1633363 & 0.010349963 & 0.04009561 & 0.006195481\\\\\n",
       "\t16 & 16 & 0.2860973 & 0.1997339 & 0.1633045 & 0.010366066 & 0.03987244 & 0.006212850\\\\\n",
       "\t17 & 17 & 0.2860019 & 0.2002944 & 0.1632518 & 0.010350421 & 0.04018557 & 0.006149127\\\\\n",
       "\t18 & 18 & 0.2859654 & 0.2004657 & 0.1631839 & 0.010214891 & 0.04015460 & 0.006104404\\\\\n",
       "\t19 & 19 & 0.2859681 & 0.2004624 & 0.1631331 & 0.010189074 & 0.03977464 & 0.006129033\\\\\n",
       "\t20 & 20 & 0.2858833 & 0.2009514 & 0.1630628 & 0.010250961 & 0.03980490 & 0.006165619\\\\\n",
       "\t21 & 21 & 0.2857954 & 0.2014616 & 0.1630146 & 0.010304966 & 0.04021250 & 0.006189183\\\\\n",
       "\t22 & 22 & 0.2858266 & 0.2013456 & 0.1630404 & 0.010334354 & 0.04026691 & 0.006219708\\\\\n",
       "\t23 & 23 & 0.2858574 & 0.2011714 & 0.1630346 & 0.010285638 & 0.04007645 & 0.006199950\\\\\n",
       "\t24 & 24 & 0.2858328 & 0.2013298 & 0.1630654 & 0.010273400 & 0.04009457 & 0.006175922\\\\\n",
       "\t25 & 25 & 0.2858363 & 0.2012845 & 0.1630334 & 0.010267702 & 0.03990390 & 0.006191177\\\\\n",
       "\t26 & 26 & 0.2858668 & 0.2011066 & 0.1630808 & 0.010267759 & 0.03973764 & 0.006199885\\\\\n",
       "\t27 & 27 & 0.2858730 & 0.2010871 & 0.1630733 & 0.010324168 & 0.03989152 & 0.006271829\\\\\n",
       "\t28 & 28 & 0.2858958 & 0.2009407 & 0.1630943 & 0.010281942 & 0.03958553 & 0.006242238\\\\\n",
       "\t29 & 29 & 0.2859135 & 0.2008618 & 0.1630860 & 0.010322480 & 0.03970557 & 0.006270100\\\\\n",
       "\t30 & 30 & 0.2858960 & 0.2009557 & 0.1630850 & 0.010253284 & 0.03954483 & 0.006231260\\\\\n",
       "\t⋮ & ⋮ & ⋮ & ⋮ & ⋮ & ⋮ & ⋮ & ⋮\\\\\n",
       "\t35 & 35 & 0.2860362 & 0.2001728 & 0.1631546 & 0.01025754 & 0.03909154 & 0.006232348\\\\\n",
       "\t36 & 36 & 0.2860666 & 0.1999993 & 0.1631705 & 0.01025239 & 0.03898035 & 0.006241848\\\\\n",
       "\t37 & 37 & 0.2860695 & 0.1999827 & 0.1631560 & 0.01024677 & 0.03898526 & 0.006253107\\\\\n",
       "\t38 & 38 & 0.2860676 & 0.1999853 & 0.1631370 & 0.01025412 & 0.03894024 & 0.006267901\\\\\n",
       "\t39 & 39 & 0.2860920 & 0.1998386 & 0.1631558 & 0.01024048 & 0.03880613 & 0.006239696\\\\\n",
       "\t40 & 40 & 0.2860865 & 0.1998767 & 0.1631548 & 0.01024418 & 0.03892164 & 0.006231810\\\\\n",
       "\t41 & 41 & 0.2860965 & 0.1998249 & 0.1631708 & 0.01022777 & 0.03893873 & 0.006237970\\\\\n",
       "\t42 & 42 & 0.2861250 & 0.1996807 & 0.1631940 & 0.01022703 & 0.03891662 & 0.006226994\\\\\n",
       "\t43 & 43 & 0.2861161 & 0.1997298 & 0.1631939 & 0.01021212 & 0.03901778 & 0.006213396\\\\\n",
       "\t44 & 44 & 0.2861135 & 0.1997411 & 0.1632090 & 0.01019682 & 0.03902811 & 0.006199225\\\\\n",
       "\t45 & 45 & 0.2861147 & 0.1997356 & 0.1632036 & 0.01019008 & 0.03904324 & 0.006208842\\\\\n",
       "\t46 & 46 & 0.2861255 & 0.1996789 & 0.1632059 & 0.01019975 & 0.03904802 & 0.006200358\\\\\n",
       "\t47 & 47 & 0.2861323 & 0.1996500 & 0.1632151 & 0.01020865 & 0.03909092 & 0.006195529\\\\\n",
       "\t48 & 48 & 0.2861333 & 0.1996477 & 0.1632226 & 0.01019956 & 0.03914670 & 0.006194268\\\\\n",
       "\t49 & 49 & 0.2861344 & 0.1996421 & 0.1632224 & 0.01018990 & 0.03913933 & 0.006185791\\\\\n",
       "\t50 & 50 & 0.2861374 & 0.1996268 & 0.1632270 & 0.01019370 & 0.03914420 & 0.006185918\\\\\n",
       "\t51 & 51 & 0.2861339 & 0.1996418 & 0.1632223 & 0.01019783 & 0.03913517 & 0.006187053\\\\\n",
       "\t52 & 52 & 0.2861395 & 0.1996136 & 0.1632207 & 0.01020403 & 0.03912705 & 0.006185729\\\\\n",
       "\t53 & 53 & 0.2861457 & 0.1995740 & 0.1632234 & 0.01020667 & 0.03910807 & 0.006189214\\\\\n",
       "\t54 & 54 & 0.2861441 & 0.1995707 & 0.1632171 & 0.01020382 & 0.03908736 & 0.006193945\\\\\n",
       "\t55 & 55 & 0.2861507 & 0.1995381 & 0.1632210 & 0.01020638 & 0.03908899 & 0.006198468\\\\\n",
       "\t56 & 56 & 0.2861489 & 0.1995512 & 0.1632191 & 0.01020781 & 0.03908425 & 0.006201489\\\\\n",
       "\t57 & 57 & 0.2861453 & 0.1995672 & 0.1632127 & 0.01020587 & 0.03913739 & 0.006204064\\\\\n",
       "\t58 & 58 & 0.2861383 & 0.1996021 & 0.1632099 & 0.01020275 & 0.03913714 & 0.006201472\\\\\n",
       "\t59 & 59 & 0.2861381 & 0.1996056 & 0.1632095 & 0.01020629 & 0.03914835 & 0.006201319\\\\\n",
       "\t60 & 60 & 0.2861425 & 0.1995800 & 0.1632104 & 0.01020553 & 0.03913530 & 0.006203424\\\\\n",
       "\t61 & 61 & 0.2861406 & 0.1995898 & 0.1632084 & 0.01020907 & 0.03913442 & 0.006204954\\\\\n",
       "\t62 & 62 & 0.2861400 & 0.1995928 & 0.1632077 & 0.01020951 & 0.03914272 & 0.006205972\\\\\n",
       "\t63 & 63 & 0.2861397 & 0.1995939 & 0.1632064 & 0.01020963 & 0.03913909 & 0.006206887\\\\\n",
       "\t64 & 64 & 0.2861397 & 0.1995939 & 0.1632064 & 0.01020963 & 0.03913909 & 0.006206887\\\\\n",
       "\\end{tabular}\n"
      ],
      "text/markdown": [
       "\n",
       "A data.frame: 64 × 7\n",
       "\n",
       "| <!--/--> | nvmax &lt;int&gt; | RMSE &lt;dbl&gt; | Rsquared &lt;dbl&gt; | MAE &lt;dbl&gt; | RMSESD &lt;dbl&gt; | RsquaredSD &lt;dbl&gt; | MAESD &lt;dbl&gt; |\n",
       "|---|---|---|---|---|---|---|---|\n",
       "| 1 |  1 | 0.2995682 | 0.1224753 | 0.1796255 | 0.011051973 | 0.03399925 | 0.006534059 |\n",
       "| 2 |  2 | 0.2915361 | 0.1683550 | 0.1700516 | 0.009928656 | 0.03467262 | 0.005863137 |\n",
       "| 3 |  3 | 0.2881495 | 0.1875697 | 0.1661000 | 0.009661797 | 0.03863934 | 0.006517532 |\n",
       "| 4 |  4 | 0.2877351 | 0.1899576 | 0.1653168 | 0.009467465 | 0.03578235 | 0.006331945 |\n",
       "| 5 |  5 | 0.2870005 | 0.1941080 | 0.1645731 | 0.010121758 | 0.03532056 | 0.006531532 |\n",
       "| 6 |  6 | 0.2868101 | 0.1954040 | 0.1642506 | 0.010230601 | 0.03778650 | 0.006460860 |\n",
       "| 7 |  7 | 0.2865106 | 0.1973288 | 0.1639406 | 0.010303629 | 0.04003086 | 0.006543044 |\n",
       "| 8 |  8 | 0.2866185 | 0.1967367 | 0.1639186 | 0.010301692 | 0.04009437 | 0.006494836 |\n",
       "| 9 |  9 | 0.2862604 | 0.1987662 | 0.1636004 | 0.010372887 | 0.04052264 | 0.006409886 |\n",
       "| 10 | 10 | 0.2861991 | 0.1991293 | 0.1635894 | 0.010319911 | 0.04084689 | 0.006260657 |\n",
       "| 11 | 11 | 0.2860705 | 0.1998753 | 0.1634679 | 0.010320793 | 0.04104881 | 0.006286762 |\n",
       "| 12 | 12 | 0.2861201 | 0.1995611 | 0.1634216 | 0.010265076 | 0.04090898 | 0.006216949 |\n",
       "| 13 | 13 | 0.2861555 | 0.1993572 | 0.1633930 | 0.010312964 | 0.04055690 | 0.006224360 |\n",
       "| 14 | 14 | 0.2861651 | 0.1992943 | 0.1634119 | 0.010353737 | 0.04031878 | 0.006260258 |\n",
       "| 15 | 15 | 0.2861325 | 0.1995357 | 0.1633363 | 0.010349963 | 0.04009561 | 0.006195481 |\n",
       "| 16 | 16 | 0.2860973 | 0.1997339 | 0.1633045 | 0.010366066 | 0.03987244 | 0.006212850 |\n",
       "| 17 | 17 | 0.2860019 | 0.2002944 | 0.1632518 | 0.010350421 | 0.04018557 | 0.006149127 |\n",
       "| 18 | 18 | 0.2859654 | 0.2004657 | 0.1631839 | 0.010214891 | 0.04015460 | 0.006104404 |\n",
       "| 19 | 19 | 0.2859681 | 0.2004624 | 0.1631331 | 0.010189074 | 0.03977464 | 0.006129033 |\n",
       "| 20 | 20 | 0.2858833 | 0.2009514 | 0.1630628 | 0.010250961 | 0.03980490 | 0.006165619 |\n",
       "| 21 | 21 | 0.2857954 | 0.2014616 | 0.1630146 | 0.010304966 | 0.04021250 | 0.006189183 |\n",
       "| 22 | 22 | 0.2858266 | 0.2013456 | 0.1630404 | 0.010334354 | 0.04026691 | 0.006219708 |\n",
       "| 23 | 23 | 0.2858574 | 0.2011714 | 0.1630346 | 0.010285638 | 0.04007645 | 0.006199950 |\n",
       "| 24 | 24 | 0.2858328 | 0.2013298 | 0.1630654 | 0.010273400 | 0.04009457 | 0.006175922 |\n",
       "| 25 | 25 | 0.2858363 | 0.2012845 | 0.1630334 | 0.010267702 | 0.03990390 | 0.006191177 |\n",
       "| 26 | 26 | 0.2858668 | 0.2011066 | 0.1630808 | 0.010267759 | 0.03973764 | 0.006199885 |\n",
       "| 27 | 27 | 0.2858730 | 0.2010871 | 0.1630733 | 0.010324168 | 0.03989152 | 0.006271829 |\n",
       "| 28 | 28 | 0.2858958 | 0.2009407 | 0.1630943 | 0.010281942 | 0.03958553 | 0.006242238 |\n",
       "| 29 | 29 | 0.2859135 | 0.2008618 | 0.1630860 | 0.010322480 | 0.03970557 | 0.006270100 |\n",
       "| 30 | 30 | 0.2858960 | 0.2009557 | 0.1630850 | 0.010253284 | 0.03954483 | 0.006231260 |\n",
       "| ⋮ | ⋮ | ⋮ | ⋮ | ⋮ | ⋮ | ⋮ | ⋮ |\n",
       "| 35 | 35 | 0.2860362 | 0.2001728 | 0.1631546 | 0.01025754 | 0.03909154 | 0.006232348 |\n",
       "| 36 | 36 | 0.2860666 | 0.1999993 | 0.1631705 | 0.01025239 | 0.03898035 | 0.006241848 |\n",
       "| 37 | 37 | 0.2860695 | 0.1999827 | 0.1631560 | 0.01024677 | 0.03898526 | 0.006253107 |\n",
       "| 38 | 38 | 0.2860676 | 0.1999853 | 0.1631370 | 0.01025412 | 0.03894024 | 0.006267901 |\n",
       "| 39 | 39 | 0.2860920 | 0.1998386 | 0.1631558 | 0.01024048 | 0.03880613 | 0.006239696 |\n",
       "| 40 | 40 | 0.2860865 | 0.1998767 | 0.1631548 | 0.01024418 | 0.03892164 | 0.006231810 |\n",
       "| 41 | 41 | 0.2860965 | 0.1998249 | 0.1631708 | 0.01022777 | 0.03893873 | 0.006237970 |\n",
       "| 42 | 42 | 0.2861250 | 0.1996807 | 0.1631940 | 0.01022703 | 0.03891662 | 0.006226994 |\n",
       "| 43 | 43 | 0.2861161 | 0.1997298 | 0.1631939 | 0.01021212 | 0.03901778 | 0.006213396 |\n",
       "| 44 | 44 | 0.2861135 | 0.1997411 | 0.1632090 | 0.01019682 | 0.03902811 | 0.006199225 |\n",
       "| 45 | 45 | 0.2861147 | 0.1997356 | 0.1632036 | 0.01019008 | 0.03904324 | 0.006208842 |\n",
       "| 46 | 46 | 0.2861255 | 0.1996789 | 0.1632059 | 0.01019975 | 0.03904802 | 0.006200358 |\n",
       "| 47 | 47 | 0.2861323 | 0.1996500 | 0.1632151 | 0.01020865 | 0.03909092 | 0.006195529 |\n",
       "| 48 | 48 | 0.2861333 | 0.1996477 | 0.1632226 | 0.01019956 | 0.03914670 | 0.006194268 |\n",
       "| 49 | 49 | 0.2861344 | 0.1996421 | 0.1632224 | 0.01018990 | 0.03913933 | 0.006185791 |\n",
       "| 50 | 50 | 0.2861374 | 0.1996268 | 0.1632270 | 0.01019370 | 0.03914420 | 0.006185918 |\n",
       "| 51 | 51 | 0.2861339 | 0.1996418 | 0.1632223 | 0.01019783 | 0.03913517 | 0.006187053 |\n",
       "| 52 | 52 | 0.2861395 | 0.1996136 | 0.1632207 | 0.01020403 | 0.03912705 | 0.006185729 |\n",
       "| 53 | 53 | 0.2861457 | 0.1995740 | 0.1632234 | 0.01020667 | 0.03910807 | 0.006189214 |\n",
       "| 54 | 54 | 0.2861441 | 0.1995707 | 0.1632171 | 0.01020382 | 0.03908736 | 0.006193945 |\n",
       "| 55 | 55 | 0.2861507 | 0.1995381 | 0.1632210 | 0.01020638 | 0.03908899 | 0.006198468 |\n",
       "| 56 | 56 | 0.2861489 | 0.1995512 | 0.1632191 | 0.01020781 | 0.03908425 | 0.006201489 |\n",
       "| 57 | 57 | 0.2861453 | 0.1995672 | 0.1632127 | 0.01020587 | 0.03913739 | 0.006204064 |\n",
       "| 58 | 58 | 0.2861383 | 0.1996021 | 0.1632099 | 0.01020275 | 0.03913714 | 0.006201472 |\n",
       "| 59 | 59 | 0.2861381 | 0.1996056 | 0.1632095 | 0.01020629 | 0.03914835 | 0.006201319 |\n",
       "| 60 | 60 | 0.2861425 | 0.1995800 | 0.1632104 | 0.01020553 | 0.03913530 | 0.006203424 |\n",
       "| 61 | 61 | 0.2861406 | 0.1995898 | 0.1632084 | 0.01020907 | 0.03913442 | 0.006204954 |\n",
       "| 62 | 62 | 0.2861400 | 0.1995928 | 0.1632077 | 0.01020951 | 0.03914272 | 0.006205972 |\n",
       "| 63 | 63 | 0.2861397 | 0.1995939 | 0.1632064 | 0.01020963 | 0.03913909 | 0.006206887 |\n",
       "| 64 | 64 | 0.2861397 | 0.1995939 | 0.1632064 | 0.01020963 | 0.03913909 | 0.006206887 |\n",
       "\n"
      ],
      "text/plain": [
       "   nvmax RMSE      Rsquared  MAE       RMSESD      RsquaredSD MAESD      \n",
       "1   1    0.2995682 0.1224753 0.1796255 0.011051973 0.03399925 0.006534059\n",
       "2   2    0.2915361 0.1683550 0.1700516 0.009928656 0.03467262 0.005863137\n",
       "3   3    0.2881495 0.1875697 0.1661000 0.009661797 0.03863934 0.006517532\n",
       "4   4    0.2877351 0.1899576 0.1653168 0.009467465 0.03578235 0.006331945\n",
       "5   5    0.2870005 0.1941080 0.1645731 0.010121758 0.03532056 0.006531532\n",
       "6   6    0.2868101 0.1954040 0.1642506 0.010230601 0.03778650 0.006460860\n",
       "7   7    0.2865106 0.1973288 0.1639406 0.010303629 0.04003086 0.006543044\n",
       "8   8    0.2866185 0.1967367 0.1639186 0.010301692 0.04009437 0.006494836\n",
       "9   9    0.2862604 0.1987662 0.1636004 0.010372887 0.04052264 0.006409886\n",
       "10 10    0.2861991 0.1991293 0.1635894 0.010319911 0.04084689 0.006260657\n",
       "11 11    0.2860705 0.1998753 0.1634679 0.010320793 0.04104881 0.006286762\n",
       "12 12    0.2861201 0.1995611 0.1634216 0.010265076 0.04090898 0.006216949\n",
       "13 13    0.2861555 0.1993572 0.1633930 0.010312964 0.04055690 0.006224360\n",
       "14 14    0.2861651 0.1992943 0.1634119 0.010353737 0.04031878 0.006260258\n",
       "15 15    0.2861325 0.1995357 0.1633363 0.010349963 0.04009561 0.006195481\n",
       "16 16    0.2860973 0.1997339 0.1633045 0.010366066 0.03987244 0.006212850\n",
       "17 17    0.2860019 0.2002944 0.1632518 0.010350421 0.04018557 0.006149127\n",
       "18 18    0.2859654 0.2004657 0.1631839 0.010214891 0.04015460 0.006104404\n",
       "19 19    0.2859681 0.2004624 0.1631331 0.010189074 0.03977464 0.006129033\n",
       "20 20    0.2858833 0.2009514 0.1630628 0.010250961 0.03980490 0.006165619\n",
       "21 21    0.2857954 0.2014616 0.1630146 0.010304966 0.04021250 0.006189183\n",
       "22 22    0.2858266 0.2013456 0.1630404 0.010334354 0.04026691 0.006219708\n",
       "23 23    0.2858574 0.2011714 0.1630346 0.010285638 0.04007645 0.006199950\n",
       "24 24    0.2858328 0.2013298 0.1630654 0.010273400 0.04009457 0.006175922\n",
       "25 25    0.2858363 0.2012845 0.1630334 0.010267702 0.03990390 0.006191177\n",
       "26 26    0.2858668 0.2011066 0.1630808 0.010267759 0.03973764 0.006199885\n",
       "27 27    0.2858730 0.2010871 0.1630733 0.010324168 0.03989152 0.006271829\n",
       "28 28    0.2858958 0.2009407 0.1630943 0.010281942 0.03958553 0.006242238\n",
       "29 29    0.2859135 0.2008618 0.1630860 0.010322480 0.03970557 0.006270100\n",
       "30 30    0.2858960 0.2009557 0.1630850 0.010253284 0.03954483 0.006231260\n",
       "<U+22EE>  <U+22EE> <U+22EE>  <U+22EE>  <U+22EE>  <U+22EE>    <U+22EE>   <U+22EE>   \n",
       "35 35    0.2860362 0.2001728 0.1631546 0.01025754  0.03909154 0.006232348\n",
       "36 36    0.2860666 0.1999993 0.1631705 0.01025239  0.03898035 0.006241848\n",
       "37 37    0.2860695 0.1999827 0.1631560 0.01024677  0.03898526 0.006253107\n",
       "38 38    0.2860676 0.1999853 0.1631370 0.01025412  0.03894024 0.006267901\n",
       "39 39    0.2860920 0.1998386 0.1631558 0.01024048  0.03880613 0.006239696\n",
       "40 40    0.2860865 0.1998767 0.1631548 0.01024418  0.03892164 0.006231810\n",
       "41 41    0.2860965 0.1998249 0.1631708 0.01022777  0.03893873 0.006237970\n",
       "42 42    0.2861250 0.1996807 0.1631940 0.01022703  0.03891662 0.006226994\n",
       "43 43    0.2861161 0.1997298 0.1631939 0.01021212  0.03901778 0.006213396\n",
       "44 44    0.2861135 0.1997411 0.1632090 0.01019682  0.03902811 0.006199225\n",
       "45 45    0.2861147 0.1997356 0.1632036 0.01019008  0.03904324 0.006208842\n",
       "46 46    0.2861255 0.1996789 0.1632059 0.01019975  0.03904802 0.006200358\n",
       "47 47    0.2861323 0.1996500 0.1632151 0.01020865  0.03909092 0.006195529\n",
       "48 48    0.2861333 0.1996477 0.1632226 0.01019956  0.03914670 0.006194268\n",
       "49 49    0.2861344 0.1996421 0.1632224 0.01018990  0.03913933 0.006185791\n",
       "50 50    0.2861374 0.1996268 0.1632270 0.01019370  0.03914420 0.006185918\n",
       "51 51    0.2861339 0.1996418 0.1632223 0.01019783  0.03913517 0.006187053\n",
       "52 52    0.2861395 0.1996136 0.1632207 0.01020403  0.03912705 0.006185729\n",
       "53 53    0.2861457 0.1995740 0.1632234 0.01020667  0.03910807 0.006189214\n",
       "54 54    0.2861441 0.1995707 0.1632171 0.01020382  0.03908736 0.006193945\n",
       "55 55    0.2861507 0.1995381 0.1632210 0.01020638  0.03908899 0.006198468\n",
       "56 56    0.2861489 0.1995512 0.1632191 0.01020781  0.03908425 0.006201489\n",
       "57 57    0.2861453 0.1995672 0.1632127 0.01020587  0.03913739 0.006204064\n",
       "58 58    0.2861383 0.1996021 0.1632099 0.01020275  0.03913714 0.006201472\n",
       "59 59    0.2861381 0.1996056 0.1632095 0.01020629  0.03914835 0.006201319\n",
       "60 60    0.2861425 0.1995800 0.1632104 0.01020553  0.03913530 0.006203424\n",
       "61 61    0.2861406 0.1995898 0.1632084 0.01020907  0.03913442 0.006204954\n",
       "62 62    0.2861400 0.1995928 0.1632077 0.01020951  0.03914272 0.006205972\n",
       "63 63    0.2861397 0.1995939 0.1632064 0.01020963  0.03913909 0.006206887\n",
       "64 64    0.2861397 0.1995939 0.1632064 0.01020963  0.03913909 0.006206887"
      ]
     },
     "metadata": {},
     "output_type": "display_data"
    }
   ],
   "source": [
    "\n",
    "#http://www.sthda.com/english/articles/37-model-selection-essentials-in-r/154-stepwise-regression-essentials-in-r/\n",
    "# Set seed for reproducibility\n",
    "set.seed(123)\n",
    "# Set up repeated k-fold cross-validation\n",
    "train.control <- trainControl(method = \"cv\", number = 10)\n",
    "# Run a backwards stepwise cross validated feature selection\n",
    "# where the model with best n variables will be returned\n",
    "step.model <- train(subscribe ~., data = train,\n",
    "                    method = \"leapBackward\", \n",
    "                    tuneGrid = data.frame(nvmax = 1:ncol(train)), #from 1 to number of columns in train set\n",
    "                    trControl = train.control\n",
    "                    )\n",
    "\n",
    "# Model accuracy FOR EACH NUMBER OF VARIABLES \n",
    "step.model$results"
   ]
  },
  {
   "cell_type": "code",
   "execution_count": 750,
   "metadata": {},
   "outputs": [
    {
     "data": {
      "text/plain": [
       "Linear Regression with Backwards Selection \n",
       "\n",
       "13713 samples\n",
       "   63 predictor\n",
       "\n",
       "No pre-processing\n",
       "Resampling: Cross-Validated (10 fold) \n",
       "Summary of sample sizes: 12341, 12342, 12342, 12342, 12342, 12342, ... \n",
       "Resampling results across tuning parameters:\n",
       "\n",
       "  nvmax  RMSE       Rsquared   MAE      \n",
       "   1     0.2995682  0.1224753  0.1796255\n",
       "   2     0.2915361  0.1683550  0.1700516\n",
       "   3     0.2881495  0.1875697  0.1661000\n",
       "   4     0.2877351  0.1899576  0.1653168\n",
       "   5     0.2870005  0.1941080  0.1645731\n",
       "   6     0.2868101  0.1954040  0.1642506\n",
       "   7     0.2865106  0.1973288  0.1639406\n",
       "   8     0.2866185  0.1967367  0.1639186\n",
       "   9     0.2862604  0.1987662  0.1636004\n",
       "  10     0.2861991  0.1991293  0.1635894\n",
       "  11     0.2860705  0.1998753  0.1634679\n",
       "  12     0.2861201  0.1995611  0.1634216\n",
       "  13     0.2861555  0.1993572  0.1633930\n",
       "  14     0.2861651  0.1992943  0.1634119\n",
       "  15     0.2861325  0.1995357  0.1633363\n",
       "  16     0.2860973  0.1997339  0.1633045\n",
       "  17     0.2860019  0.2002944  0.1632518\n",
       "  18     0.2859654  0.2004657  0.1631839\n",
       "  19     0.2859681  0.2004624  0.1631331\n",
       "  20     0.2858833  0.2009514  0.1630628\n",
       "  21     0.2857954  0.2014616  0.1630146\n",
       "  22     0.2858266  0.2013456  0.1630404\n",
       "  23     0.2858574  0.2011714  0.1630346\n",
       "  24     0.2858328  0.2013298  0.1630654\n",
       "  25     0.2858363  0.2012845  0.1630334\n",
       "  26     0.2858668  0.2011066  0.1630808\n",
       "  27     0.2858730  0.2010871  0.1630733\n",
       "  28     0.2858958  0.2009407  0.1630943\n",
       "  29     0.2859135  0.2008618  0.1630860\n",
       "  30     0.2858960  0.2009557  0.1630850\n",
       "  31     0.2859584  0.2006035  0.1630892\n",
       "  32     0.2859977  0.2003592  0.1631086\n",
       "  33     0.2860266  0.2002180  0.1631121\n",
       "  34     0.2860430  0.2001163  0.1631391\n",
       "  35     0.2860362  0.2001728  0.1631546\n",
       "  36     0.2860666  0.1999993  0.1631705\n",
       "  37     0.2860695  0.1999827  0.1631560\n",
       "  38     0.2860676  0.1999853  0.1631370\n",
       "  39     0.2860920  0.1998386  0.1631558\n",
       "  40     0.2860865  0.1998767  0.1631548\n",
       "  41     0.2860965  0.1998249  0.1631708\n",
       "  42     0.2861250  0.1996807  0.1631940\n",
       "  43     0.2861161  0.1997298  0.1631939\n",
       "  44     0.2861135  0.1997411  0.1632090\n",
       "  45     0.2861147  0.1997356  0.1632036\n",
       "  46     0.2861255  0.1996789  0.1632059\n",
       "  47     0.2861323  0.1996500  0.1632151\n",
       "  48     0.2861333  0.1996477  0.1632226\n",
       "  49     0.2861344  0.1996421  0.1632224\n",
       "  50     0.2861374  0.1996268  0.1632270\n",
       "  51     0.2861339  0.1996418  0.1632223\n",
       "  52     0.2861395  0.1996136  0.1632207\n",
       "  53     0.2861457  0.1995740  0.1632234\n",
       "  54     0.2861441  0.1995707  0.1632171\n",
       "  55     0.2861507  0.1995381  0.1632210\n",
       "  56     0.2861489  0.1995512  0.1632191\n",
       "  57     0.2861453  0.1995672  0.1632127\n",
       "  58     0.2861383  0.1996021  0.1632099\n",
       "  59     0.2861381  0.1996056  0.1632095\n",
       "  60     0.2861425  0.1995800  0.1632104\n",
       "  61     0.2861406  0.1995898  0.1632084\n",
       "  62     0.2861400  0.1995928  0.1632077\n",
       "  63     0.2861397  0.1995939  0.1632064\n",
       "  64     0.2861397  0.1995939  0.1632064\n",
       "\n",
       "RMSE was used to select the optimal model using the smallest value.\n",
       "The final value used for the model was nvmax = 21."
      ]
     },
     "metadata": {},
     "output_type": "display_data"
    }
   ],
   "source": [
    "step.model # results of the backwards selection"
   ]
  },
  {
   "cell_type": "code",
   "execution_count": 751,
   "metadata": {},
   "outputs": [
    {
     "data": {
      "text/html": [
       "<table class=\"dataframe\">\n",
       "<caption>A data.frame: 1 × 1</caption>\n",
       "<thead>\n",
       "\t<tr><th></th><th scope=col>nvmax</th></tr>\n",
       "\t<tr><th></th><th scope=col>&lt;int&gt;</th></tr>\n",
       "</thead>\n",
       "<tbody>\n",
       "\t<tr><th scope=row>21</th><td>21</td></tr>\n",
       "</tbody>\n",
       "</table>\n"
      ],
      "text/latex": [
       "A data.frame: 1 × 1\n",
       "\\begin{tabular}{r|l}\n",
       "  & nvmax\\\\\n",
       "  & <int>\\\\\n",
       "\\hline\n",
       "\t21 & 21\\\\\n",
       "\\end{tabular}\n"
      ],
      "text/markdown": [
       "\n",
       "A data.frame: 1 × 1\n",
       "\n",
       "| <!--/--> | nvmax &lt;int&gt; |\n",
       "|---|---|\n",
       "| 21 | 21 |\n",
       "\n"
      ],
      "text/plain": [
       "   nvmax\n",
       "21 21   "
      ]
     },
     "metadata": {},
     "output_type": "display_data"
    }
   ],
   "source": [
    "step.model$bestTune\n",
    "#the best model is the one with 21 variables - smallest RMSE"
   ]
  },
  {
   "cell_type": "code",
   "execution_count": 752,
   "metadata": {},
   "outputs": [
    {
     "data": {
      "text/html": [
       "<style>\n",
       ".dl-inline {width: auto; margin:0; padding: 0}\n",
       ".dl-inline>dt, .dl-inline>dd {float: none; width: auto; display: inline-block}\n",
       ".dl-inline>dt::after {content: \":\\0020\"; padding-right: .5ex}\n",
       ".dl-inline>dt:not(:first-of-type) {padding-left: .5ex}\n",
       "</style><dl class=dl-inline><dt>(Intercept)</dt><dd>-3.0038815624342</dd><dt>campaign</dt><dd>-0.00187161501901354</dd><dt>pdays</dt><dd>-0.000363185221999791</dd><dt>emp.var.rate</dt><dd>-0.0454542015511094</dd><dt>cons.price.idx</dt><dd>0.0797242783351625</dd><dt>cons.conf.idx</dt><dd>0.00637691195336978</dd><dt>nr.employed</dt><dd>-0.000723828939634891</dd><dt>job_retired</dt><dd>0.0382635875893655</dd><dt>job_student</dt><dd>0.05245396740553</dd><dt>marital_unknown</dt><dd>0.159269778191318</dd><dt>marital_NA</dt><dd>0.0549133153589659</dd><dt>education_university.degree</dt><dd>0.0131958189514417</dd><dt>default_unknown</dt><dd>-0.0136738398904551</dd><dt>default_NA</dt><dd>0.0487171770469833</dd><dt>contact_telephone</dt><dd>-0.0334810141091933</dd><dt>month_dec</dt><dd>0.112272497955243</dd><dt>month_jul</dt><dd>0.0342816976883453</dd><dt>month_mar</dt><dd>0.240324627656843</dd><dt>month_may</dt><dd>-0.0657342517780547</dd><dt>month_nov</dt><dd>-0.0196961415979802</dd><dt>day_of_week_mon</dt><dd>-0.0183364785491973</dd><dt>poutcome_nonexistent</dt><dd>0.0478246348304948</dd></dl>\n"
      ],
      "text/latex": [
       "\\begin{description*}\n",
       "\\item[(Intercept)] -3.0038815624342\n",
       "\\item[campaign] -0.00187161501901354\n",
       "\\item[pdays] -0.000363185221999791\n",
       "\\item[emp.var.rate] -0.0454542015511094\n",
       "\\item[cons.price.idx] 0.0797242783351625\n",
       "\\item[cons.conf.idx] 0.00637691195336978\n",
       "\\item[nr.employed] -0.000723828939634891\n",
       "\\item[job\\textbackslash{}\\_retired] 0.0382635875893655\n",
       "\\item[job\\textbackslash{}\\_student] 0.05245396740553\n",
       "\\item[marital\\textbackslash{}\\_unknown] 0.159269778191318\n",
       "\\item[marital\\textbackslash{}\\_NA] 0.0549133153589659\n",
       "\\item[education\\textbackslash{}\\_university.degree] 0.0131958189514417\n",
       "\\item[default\\textbackslash{}\\_unknown] -0.0136738398904551\n",
       "\\item[default\\textbackslash{}\\_NA] 0.0487171770469833\n",
       "\\item[contact\\textbackslash{}\\_telephone] -0.0334810141091933\n",
       "\\item[month\\textbackslash{}\\_dec] 0.112272497955243\n",
       "\\item[month\\textbackslash{}\\_jul] 0.0342816976883453\n",
       "\\item[month\\textbackslash{}\\_mar] 0.240324627656843\n",
       "\\item[month\\textbackslash{}\\_may] -0.0657342517780547\n",
       "\\item[month\\textbackslash{}\\_nov] -0.0196961415979802\n",
       "\\item[day\\textbackslash{}\\_of\\textbackslash{}\\_week\\textbackslash{}\\_mon] -0.0183364785491973\n",
       "\\item[poutcome\\textbackslash{}\\_nonexistent] 0.0478246348304948\n",
       "\\end{description*}\n"
      ],
      "text/markdown": [
       "(Intercept)\n",
       ":   -3.0038815624342campaign\n",
       ":   -0.00187161501901354pdays\n",
       ":   -0.000363185221999791emp.var.rate\n",
       ":   -0.0454542015511094cons.price.idx\n",
       ":   0.0797242783351625cons.conf.idx\n",
       ":   0.00637691195336978nr.employed\n",
       ":   -0.000723828939634891job_retired\n",
       ":   0.0382635875893655job_student\n",
       ":   0.05245396740553marital_unknown\n",
       ":   0.159269778191318marital_NA\n",
       ":   0.0549133153589659education_university.degree\n",
       ":   0.0131958189514417default_unknown\n",
       ":   -0.0136738398904551default_NA\n",
       ":   0.0487171770469833contact_telephone\n",
       ":   -0.0334810141091933month_dec\n",
       ":   0.112272497955243month_jul\n",
       ":   0.0342816976883453month_mar\n",
       ":   0.240324627656843month_may\n",
       ":   -0.0657342517780547month_nov\n",
       ":   -0.0196961415979802day_of_week_mon\n",
       ":   -0.0183364785491973poutcome_nonexistent\n",
       ":   0.0478246348304948\n",
       "\n"
      ],
      "text/plain": [
       "                (Intercept)                    campaign \n",
       "              -3.0038815624               -0.0018716150 \n",
       "                      pdays                emp.var.rate \n",
       "              -0.0003631852               -0.0454542016 \n",
       "             cons.price.idx               cons.conf.idx \n",
       "               0.0797242783                0.0063769120 \n",
       "                nr.employed                 job_retired \n",
       "              -0.0007238289                0.0382635876 \n",
       "                job_student             marital_unknown \n",
       "               0.0524539674                0.1592697782 \n",
       "                 marital_NA education_university.degree \n",
       "               0.0549133154                0.0131958190 \n",
       "            default_unknown                  default_NA \n",
       "              -0.0136738399                0.0487171770 \n",
       "          contact_telephone                   month_dec \n",
       "              -0.0334810141                0.1122724980 \n",
       "                  month_jul                   month_mar \n",
       "               0.0342816977                0.2403246277 \n",
       "                  month_may                   month_nov \n",
       "              -0.0657342518               -0.0196961416 \n",
       "            day_of_week_mon        poutcome_nonexistent \n",
       "              -0.0183364785                0.0478246348 "
      ]
     },
     "metadata": {},
     "output_type": "display_data"
    }
   ],
   "source": [
    "coef(step.model$finalModel, 21) #get coefficients for the model with 21 variables"
   ]
  },
  {
   "cell_type": "code",
   "execution_count": 753,
   "metadata": {
    "scrolled": false
   },
   "outputs": [
    {
     "data": {
      "text/plain": [
       "Subset selection object\n",
       "63 Variables  (and intercept)\n",
       "                              Forced in Forced out\n",
       "client_id                         FALSE      FALSE\n",
       "age                               FALSE      FALSE\n",
       "campaign                          FALSE      FALSE\n",
       "pdays                             FALSE      FALSE\n",
       "previous                          FALSE      FALSE\n",
       "emp.var.rate                      FALSE      FALSE\n",
       "cons.price.idx                    FALSE      FALSE\n",
       "cons.conf.idx                     FALSE      FALSE\n",
       "euribor3m                         FALSE      FALSE\n",
       "nr.employed                       FALSE      FALSE\n",
       "`job_blue-collar`                 FALSE      FALSE\n",
       "job_entrepreneur                  FALSE      FALSE\n",
       "job_housemaid                     FALSE      FALSE\n",
       "job_management                    FALSE      FALSE\n",
       "job_retired                       FALSE      FALSE\n",
       "`job_self-employed`               FALSE      FALSE\n",
       "job_services                      FALSE      FALSE\n",
       "job_student                       FALSE      FALSE\n",
       "job_technician                    FALSE      FALSE\n",
       "job_unemployed                    FALSE      FALSE\n",
       "job_unknown                       FALSE      FALSE\n",
       "job_NA                            FALSE      FALSE\n",
       "marital_married                   FALSE      FALSE\n",
       "marital_single                    FALSE      FALSE\n",
       "marital_unknown                   FALSE      FALSE\n",
       "marital_NA                        FALSE      FALSE\n",
       "education_basic.6y                FALSE      FALSE\n",
       "education_basic.9y                FALSE      FALSE\n",
       "education_high.school             FALSE      FALSE\n",
       "education_illiterate              FALSE      FALSE\n",
       "education_professional.course     FALSE      FALSE\n",
       "education_university.degree       FALSE      FALSE\n",
       "education_unknown                 FALSE      FALSE\n",
       "education_NA                      FALSE      FALSE\n",
       "default_unknown                   FALSE      FALSE\n",
       "default_yes                       FALSE      FALSE\n",
       "default_NA                        FALSE      FALSE\n",
       "housing_unknown                   FALSE      FALSE\n",
       "housing_yes                       FALSE      FALSE\n",
       "housing_NA                        FALSE      FALSE\n",
       "loan_unknown                      FALSE      FALSE\n",
       "loan_yes                          FALSE      FALSE\n",
       "loan_NA                           FALSE      FALSE\n",
       "contact_telephone                 FALSE      FALSE\n",
       "contact_NA                        FALSE      FALSE\n",
       "month_aug                         FALSE      FALSE\n",
       "month_dec                         FALSE      FALSE\n",
       "month_jul                         FALSE      FALSE\n",
       "month_jun                         FALSE      FALSE\n",
       "month_mar                         FALSE      FALSE\n",
       "month_may                         FALSE      FALSE\n",
       "month_nov                         FALSE      FALSE\n",
       "month_oct                         FALSE      FALSE\n",
       "month_sep                         FALSE      FALSE\n",
       "month_NA                          FALSE      FALSE\n",
       "day_of_week_mon                   FALSE      FALSE\n",
       "day_of_week_thu                   FALSE      FALSE\n",
       "day_of_week_tue                   FALSE      FALSE\n",
       "day_of_week_wed                   FALSE      FALSE\n",
       "day_of_week_NA                    FALSE      FALSE\n",
       "poutcome_nonexistent              FALSE      FALSE\n",
       "poutcome_success                  FALSE      FALSE\n",
       "poutcome_NA                       FALSE      FALSE\n",
       "1 subsets of each size up to 21\n",
       "Selection Algorithm: backward\n",
       "          client_id age campaign pdays previous emp.var.rate cons.price.idx\n",
       "1  ( 1 )  \" \"       \" \" \" \"      \" \"   \" \"      \" \"          \" \"           \n",
       "2  ( 1 )  \" \"       \" \" \" \"      \"*\"   \" \"      \" \"          \" \"           \n",
       "3  ( 1 )  \" \"       \" \" \" \"      \"*\"   \" \"      \" \"          \" \"           \n",
       "4  ( 1 )  \" \"       \" \" \" \"      \"*\"   \" \"      \" \"          \" \"           \n",
       "5  ( 1 )  \" \"       \" \" \" \"      \"*\"   \" \"      \" \"          \" \"           \n",
       "6  ( 1 )  \" \"       \" \" \" \"      \"*\"   \" \"      \" \"          \" \"           \n",
       "7  ( 1 )  \" \"       \" \" \" \"      \"*\"   \" \"      \" \"          \" \"           \n",
       "8  ( 1 )  \" \"       \" \" \" \"      \"*\"   \" \"      \" \"          \"*\"           \n",
       "9  ( 1 )  \" \"       \" \" \" \"      \"*\"   \" \"      \"*\"          \"*\"           \n",
       "10  ( 1 ) \" \"       \" \" \" \"      \"*\"   \" \"      \"*\"          \"*\"           \n",
       "11  ( 1 ) \" \"       \" \" \" \"      \"*\"   \" \"      \"*\"          \"*\"           \n",
       "12  ( 1 ) \" \"       \" \" \" \"      \"*\"   \" \"      \"*\"          \"*\"           \n",
       "13  ( 1 ) \" \"       \" \" \" \"      \"*\"   \" \"      \"*\"          \"*\"           \n",
       "14  ( 1 ) \" \"       \" \" \" \"      \"*\"   \" \"      \"*\"          \"*\"           \n",
       "15  ( 1 ) \" \"       \" \" \" \"      \"*\"   \" \"      \"*\"          \"*\"           \n",
       "16  ( 1 ) \" \"       \" \" \" \"      \"*\"   \" \"      \"*\"          \"*\"           \n",
       "17  ( 1 ) \" \"       \" \" \" \"      \"*\"   \" \"      \"*\"          \"*\"           \n",
       "18  ( 1 ) \" \"       \" \" \" \"      \"*\"   \" \"      \"*\"          \"*\"           \n",
       "19  ( 1 ) \" \"       \" \" \" \"      \"*\"   \" \"      \"*\"          \"*\"           \n",
       "20  ( 1 ) \" \"       \" \" \" \"      \"*\"   \" \"      \"*\"          \"*\"           \n",
       "21  ( 1 ) \" \"       \" \" \"*\"      \"*\"   \" \"      \"*\"          \"*\"           \n",
       "          cons.conf.idx euribor3m nr.employed `job_blue-collar`\n",
       "1  ( 1 )  \" \"           \" \"       \"*\"         \" \"              \n",
       "2  ( 1 )  \" \"           \" \"       \"*\"         \" \"              \n",
       "3  ( 1 )  \" \"           \" \"       \"*\"         \" \"              \n",
       "4  ( 1 )  \" \"           \" \"       \"*\"         \" \"              \n",
       "5  ( 1 )  \"*\"           \" \"       \"*\"         \" \"              \n",
       "6  ( 1 )  \"*\"           \" \"       \"*\"         \" \"              \n",
       "7  ( 1 )  \"*\"           \" \"       \"*\"         \" \"              \n",
       "8  ( 1 )  \"*\"           \" \"       \"*\"         \" \"              \n",
       "9  ( 1 )  \"*\"           \" \"       \"*\"         \" \"              \n",
       "10  ( 1 ) \"*\"           \" \"       \"*\"         \" \"              \n",
       "11  ( 1 ) \"*\"           \" \"       \"*\"         \" \"              \n",
       "12  ( 1 ) \"*\"           \" \"       \"*\"         \" \"              \n",
       "13  ( 1 ) \"*\"           \" \"       \"*\"         \" \"              \n",
       "14  ( 1 ) \"*\"           \" \"       \"*\"         \" \"              \n",
       "15  ( 1 ) \"*\"           \" \"       \"*\"         \" \"              \n",
       "16  ( 1 ) \"*\"           \" \"       \"*\"         \" \"              \n",
       "17  ( 1 ) \"*\"           \" \"       \"*\"         \" \"              \n",
       "18  ( 1 ) \"*\"           \" \"       \"*\"         \" \"              \n",
       "19  ( 1 ) \"*\"           \" \"       \"*\"         \" \"              \n",
       "20  ( 1 ) \"*\"           \" \"       \"*\"         \" \"              \n",
       "21  ( 1 ) \"*\"           \" \"       \"*\"         \" \"              \n",
       "          job_entrepreneur job_housemaid job_management job_retired\n",
       "1  ( 1 )  \" \"              \" \"           \" \"            \" \"        \n",
       "2  ( 1 )  \" \"              \" \"           \" \"            \" \"        \n",
       "3  ( 1 )  \" \"              \" \"           \" \"            \" \"        \n",
       "4  ( 1 )  \" \"              \" \"           \" \"            \" \"        \n",
       "5  ( 1 )  \" \"              \" \"           \" \"            \" \"        \n",
       "6  ( 1 )  \" \"              \" \"           \" \"            \" \"        \n",
       "7  ( 1 )  \" \"              \" \"           \" \"            \" \"        \n",
       "8  ( 1 )  \" \"              \" \"           \" \"            \" \"        \n",
       "9  ( 1 )  \" \"              \" \"           \" \"            \" \"        \n",
       "10  ( 1 ) \" \"              \" \"           \" \"            \" \"        \n",
       "11  ( 1 ) \" \"              \" \"           \" \"            \" \"        \n",
       "12  ( 1 ) \" \"              \" \"           \" \"            \" \"        \n",
       "13  ( 1 ) \" \"              \" \"           \" \"            \" \"        \n",
       "14  ( 1 ) \" \"              \" \"           \" \"            \"*\"        \n",
       "15  ( 1 ) \" \"              \" \"           \" \"            \"*\"        \n",
       "16  ( 1 ) \" \"              \" \"           \" \"            \"*\"        \n",
       "17  ( 1 ) \" \"              \" \"           \" \"            \"*\"        \n",
       "18  ( 1 ) \" \"              \" \"           \" \"            \"*\"        \n",
       "19  ( 1 ) \" \"              \" \"           \" \"            \"*\"        \n",
       "20  ( 1 ) \" \"              \" \"           \" \"            \"*\"        \n",
       "21  ( 1 ) \" \"              \" \"           \" \"            \"*\"        \n",
       "          `job_self-employed` job_services job_student job_technician\n",
       "1  ( 1 )  \" \"                 \" \"          \" \"         \" \"           \n",
       "2  ( 1 )  \" \"                 \" \"          \" \"         \" \"           \n",
       "3  ( 1 )  \" \"                 \" \"          \" \"         \" \"           \n",
       "4  ( 1 )  \" \"                 \" \"          \" \"         \" \"           \n",
       "5  ( 1 )  \" \"                 \" \"          \" \"         \" \"           \n",
       "6  ( 1 )  \" \"                 \" \"          \" \"         \" \"           \n",
       "7  ( 1 )  \" \"                 \" \"          \" \"         \" \"           \n",
       "8  ( 1 )  \" \"                 \" \"          \" \"         \" \"           \n",
       "9  ( 1 )  \" \"                 \" \"          \" \"         \" \"           \n",
       "10  ( 1 ) \" \"                 \" \"          \" \"         \" \"           \n",
       "11  ( 1 ) \" \"                 \" \"          \" \"         \" \"           \n",
       "12  ( 1 ) \" \"                 \" \"          \" \"         \" \"           \n",
       "13  ( 1 ) \" \"                 \" \"          \"*\"         \" \"           \n",
       "14  ( 1 ) \" \"                 \" \"          \"*\"         \" \"           \n",
       "15  ( 1 ) \" \"                 \" \"          \"*\"         \" \"           \n",
       "16  ( 1 ) \" \"                 \" \"          \"*\"         \" \"           \n",
       "17  ( 1 ) \" \"                 \" \"          \"*\"         \" \"           \n",
       "18  ( 1 ) \" \"                 \" \"          \"*\"         \" \"           \n",
       "19  ( 1 ) \" \"                 \" \"          \"*\"         \" \"           \n",
       "20  ( 1 ) \" \"                 \" \"          \"*\"         \" \"           \n",
       "21  ( 1 ) \" \"                 \" \"          \"*\"         \" \"           \n",
       "          job_unemployed job_unknown job_NA marital_married marital_single\n",
       "1  ( 1 )  \" \"            \" \"         \" \"    \" \"             \" \"           \n",
       "2  ( 1 )  \" \"            \" \"         \" \"    \" \"             \" \"           \n",
       "3  ( 1 )  \" \"            \" \"         \" \"    \" \"             \" \"           \n",
       "4  ( 1 )  \" \"            \" \"         \" \"    \" \"             \" \"           \n",
       "5  ( 1 )  \" \"            \" \"         \" \"    \" \"             \" \"           \n",
       "6  ( 1 )  \" \"            \" \"         \" \"    \" \"             \" \"           \n",
       "7  ( 1 )  \" \"            \" \"         \" \"    \" \"             \" \"           \n",
       "8  ( 1 )  \" \"            \" \"         \" \"    \" \"             \" \"           \n",
       "9  ( 1 )  \" \"            \" \"         \" \"    \" \"             \" \"           \n",
       "10  ( 1 ) \" \"            \" \"         \" \"    \" \"             \" \"           \n",
       "11  ( 1 ) \" \"            \" \"         \" \"    \" \"             \" \"           \n",
       "12  ( 1 ) \" \"            \" \"         \" \"    \" \"             \" \"           \n",
       "13  ( 1 ) \" \"            \" \"         \" \"    \" \"             \" \"           \n",
       "14  ( 1 ) \" \"            \" \"         \" \"    \" \"             \" \"           \n",
       "15  ( 1 ) \" \"            \" \"         \" \"    \" \"             \" \"           \n",
       "16  ( 1 ) \" \"            \" \"         \" \"    \" \"             \" \"           \n",
       "17  ( 1 ) \" \"            \" \"         \" \"    \" \"             \" \"           \n",
       "18  ( 1 ) \" \"            \" \"         \" \"    \" \"             \" \"           \n",
       "19  ( 1 ) \" \"            \" \"         \" \"    \" \"             \" \"           \n",
       "20  ( 1 ) \" \"            \" \"         \" \"    \" \"             \" \"           \n",
       "21  ( 1 ) \" \"            \" \"         \" \"    \" \"             \" \"           \n",
       "          marital_unknown marital_NA education_basic.6y education_basic.9y\n",
       "1  ( 1 )  \" \"             \" \"        \" \"                \" \"               \n",
       "2  ( 1 )  \" \"             \" \"        \" \"                \" \"               \n",
       "3  ( 1 )  \" \"             \" \"        \" \"                \" \"               \n",
       "4  ( 1 )  \" \"             \" \"        \" \"                \" \"               \n",
       "5  ( 1 )  \" \"             \" \"        \" \"                \" \"               \n",
       "6  ( 1 )  \" \"             \" \"        \" \"                \" \"               \n",
       "7  ( 1 )  \" \"             \" \"        \" \"                \" \"               \n",
       "8  ( 1 )  \" \"             \" \"        \" \"                \" \"               \n",
       "9  ( 1 )  \" \"             \" \"        \" \"                \" \"               \n",
       "10  ( 1 ) \" \"             \" \"        \" \"                \" \"               \n",
       "11  ( 1 ) \" \"             \" \"        \" \"                \" \"               \n",
       "12  ( 1 ) \" \"             \" \"        \" \"                \" \"               \n",
       "13  ( 1 ) \" \"             \" \"        \" \"                \" \"               \n",
       "14  ( 1 ) \" \"             \" \"        \" \"                \" \"               \n",
       "15  ( 1 ) \"*\"             \" \"        \" \"                \" \"               \n",
       "16  ( 1 ) \"*\"             \" \"        \" \"                \" \"               \n",
       "17  ( 1 ) \"*\"             \"*\"        \" \"                \" \"               \n",
       "18  ( 1 ) \"*\"             \"*\"        \" \"                \" \"               \n",
       "19  ( 1 ) \"*\"             \"*\"        \" \"                \" \"               \n",
       "20  ( 1 ) \"*\"             \"*\"        \" \"                \" \"               \n",
       "21  ( 1 ) \"*\"             \"*\"        \" \"                \" \"               \n",
       "          education_high.school education_illiterate\n",
       "1  ( 1 )  \" \"                   \" \"                 \n",
       "2  ( 1 )  \" \"                   \" \"                 \n",
       "3  ( 1 )  \" \"                   \" \"                 \n",
       "4  ( 1 )  \" \"                   \" \"                 \n",
       "5  ( 1 )  \" \"                   \" \"                 \n",
       "6  ( 1 )  \" \"                   \" \"                 \n",
       "7  ( 1 )  \" \"                   \" \"                 \n",
       "8  ( 1 )  \" \"                   \" \"                 \n",
       "9  ( 1 )  \" \"                   \" \"                 \n",
       "10  ( 1 ) \" \"                   \" \"                 \n",
       "11  ( 1 ) \" \"                   \" \"                 \n",
       "12  ( 1 ) \" \"                   \" \"                 \n",
       "13  ( 1 ) \" \"                   \" \"                 \n",
       "14  ( 1 ) \" \"                   \" \"                 \n",
       "15  ( 1 ) \" \"                   \" \"                 \n",
       "16  ( 1 ) \" \"                   \" \"                 \n",
       "17  ( 1 ) \" \"                   \" \"                 \n",
       "18  ( 1 ) \" \"                   \" \"                 \n",
       "19  ( 1 ) \" \"                   \" \"                 \n",
       "20  ( 1 ) \" \"                   \" \"                 \n",
       "21  ( 1 ) \" \"                   \" \"                 \n",
       "          education_professional.course education_university.degree\n",
       "1  ( 1 )  \" \"                           \" \"                        \n",
       "2  ( 1 )  \" \"                           \" \"                        \n",
       "3  ( 1 )  \" \"                           \" \"                        \n",
       "4  ( 1 )  \" \"                           \" \"                        \n",
       "5  ( 1 )  \" \"                           \" \"                        \n",
       "6  ( 1 )  \" \"                           \" \"                        \n",
       "7  ( 1 )  \" \"                           \" \"                        \n",
       "8  ( 1 )  \" \"                           \" \"                        \n",
       "9  ( 1 )  \" \"                           \" \"                        \n",
       "10  ( 1 ) \" \"                           \" \"                        \n",
       "11  ( 1 ) \" \"                           \" \"                        \n",
       "12  ( 1 ) \" \"                           \" \"                        \n",
       "13  ( 1 ) \" \"                           \" \"                        \n",
       "14  ( 1 ) \" \"                           \" \"                        \n",
       "15  ( 1 ) \" \"                           \" \"                        \n",
       "16  ( 1 ) \" \"                           \"*\"                        \n",
       "17  ( 1 ) \" \"                           \"*\"                        \n",
       "18  ( 1 ) \" \"                           \"*\"                        \n",
       "19  ( 1 ) \" \"                           \"*\"                        \n",
       "20  ( 1 ) \" \"                           \"*\"                        \n",
       "21  ( 1 ) \" \"                           \"*\"                        \n",
       "          education_unknown education_NA default_unknown default_yes default_NA\n",
       "1  ( 1 )  \" \"               \" \"          \" \"             \" \"         \" \"       \n",
       "2  ( 1 )  \" \"               \" \"          \" \"             \" \"         \" \"       \n",
       "3  ( 1 )  \" \"               \" \"          \" \"             \" \"         \" \"       \n",
       "4  ( 1 )  \" \"               \" \"          \" \"             \" \"         \" \"       \n",
       "5  ( 1 )  \" \"               \" \"          \" \"             \" \"         \" \"       \n",
       "6  ( 1 )  \" \"               \" \"          \" \"             \" \"         \" \"       \n",
       "7  ( 1 )  \" \"               \" \"          \" \"             \" \"         \" \"       \n",
       "8  ( 1 )  \" \"               \" \"          \" \"             \" \"         \" \"       \n",
       "9  ( 1 )  \" \"               \" \"          \" \"             \" \"         \" \"       \n",
       "10  ( 1 ) \" \"               \" \"          \" \"             \" \"         \" \"       \n",
       "11  ( 1 ) \" \"               \" \"          \" \"             \" \"         \" \"       \n",
       "12  ( 1 ) \" \"               \" \"          \" \"             \" \"         \" \"       \n",
       "13  ( 1 ) \" \"               \" \"          \" \"             \" \"         \" \"       \n",
       "14  ( 1 ) \" \"               \" \"          \" \"             \" \"         \" \"       \n",
       "15  ( 1 ) \" \"               \" \"          \" \"             \" \"         \" \"       \n",
       "16  ( 1 ) \" \"               \" \"          \" \"             \" \"         \" \"       \n",
       "17  ( 1 ) \" \"               \" \"          \" \"             \" \"         \" \"       \n",
       "18  ( 1 ) \" \"               \" \"          \" \"             \" \"         \"*\"       \n",
       "19  ( 1 ) \" \"               \" \"          \"*\"             \" \"         \"*\"       \n",
       "20  ( 1 ) \" \"               \" \"          \"*\"             \" \"         \"*\"       \n",
       "21  ( 1 ) \" \"               \" \"          \"*\"             \" \"         \"*\"       \n",
       "          housing_unknown housing_yes housing_NA loan_unknown loan_yes loan_NA\n",
       "1  ( 1 )  \" \"             \" \"         \" \"        \" \"          \" \"      \" \"    \n",
       "2  ( 1 )  \" \"             \" \"         \" \"        \" \"          \" \"      \" \"    \n",
       "3  ( 1 )  \" \"             \" \"         \" \"        \" \"          \" \"      \" \"    \n",
       "4  ( 1 )  \" \"             \" \"         \" \"        \" \"          \" \"      \" \"    \n",
       "5  ( 1 )  \" \"             \" \"         \" \"        \" \"          \" \"      \" \"    \n",
       "6  ( 1 )  \" \"             \" \"         \" \"        \" \"          \" \"      \" \"    \n",
       "7  ( 1 )  \" \"             \" \"         \" \"        \" \"          \" \"      \" \"    \n",
       "8  ( 1 )  \" \"             \" \"         \" \"        \" \"          \" \"      \" \"    \n",
       "9  ( 1 )  \" \"             \" \"         \" \"        \" \"          \" \"      \" \"    \n",
       "10  ( 1 ) \" \"             \" \"         \" \"        \" \"          \" \"      \" \"    \n",
       "11  ( 1 ) \" \"             \" \"         \" \"        \" \"          \" \"      \" \"    \n",
       "12  ( 1 ) \" \"             \" \"         \" \"        \" \"          \" \"      \" \"    \n",
       "13  ( 1 ) \" \"             \" \"         \" \"        \" \"          \" \"      \" \"    \n",
       "14  ( 1 ) \" \"             \" \"         \" \"        \" \"          \" \"      \" \"    \n",
       "15  ( 1 ) \" \"             \" \"         \" \"        \" \"          \" \"      \" \"    \n",
       "16  ( 1 ) \" \"             \" \"         \" \"        \" \"          \" \"      \" \"    \n",
       "17  ( 1 ) \" \"             \" \"         \" \"        \" \"          \" \"      \" \"    \n",
       "18  ( 1 ) \" \"             \" \"         \" \"        \" \"          \" \"      \" \"    \n",
       "19  ( 1 ) \" \"             \" \"         \" \"        \" \"          \" \"      \" \"    \n",
       "20  ( 1 ) \" \"             \" \"         \" \"        \" \"          \" \"      \" \"    \n",
       "21  ( 1 ) \" \"             \" \"         \" \"        \" \"          \" \"      \" \"    \n",
       "          contact_telephone contact_NA month_aug month_dec month_jul month_jun\n",
       "1  ( 1 )  \" \"               \" \"        \" \"       \" \"       \" \"       \" \"      \n",
       "2  ( 1 )  \" \"               \" \"        \" \"       \" \"       \" \"       \" \"      \n",
       "3  ( 1 )  \" \"               \" \"        \" \"       \" \"       \" \"       \" \"      \n",
       "4  ( 1 )  \" \"               \" \"        \" \"       \" \"       \" \"       \" \"      \n",
       "5  ( 1 )  \" \"               \" \"        \" \"       \" \"       \" \"       \" \"      \n",
       "6  ( 1 )  \" \"               \" \"        \" \"       \" \"       \"*\"       \" \"      \n",
       "7  ( 1 )  \" \"               \" \"        \" \"       \" \"       \"*\"       \" \"      \n",
       "8  ( 1 )  \" \"               \" \"        \" \"       \" \"       \"*\"       \" \"      \n",
       "9  ( 1 )  \" \"               \" \"        \" \"       \" \"       \"*\"       \" \"      \n",
       "10  ( 1 ) \"*\"               \" \"        \" \"       \" \"       \"*\"       \" \"      \n",
       "11  ( 1 ) \"*\"               \" \"        \" \"       \"*\"       \"*\"       \" \"      \n",
       "12  ( 1 ) \"*\"               \" \"        \" \"       \"*\"       \"*\"       \" \"      \n",
       "13  ( 1 ) \"*\"               \" \"        \" \"       \"*\"       \"*\"       \" \"      \n",
       "14  ( 1 ) \"*\"               \" \"        \" \"       \"*\"       \"*\"       \" \"      \n",
       "15  ( 1 ) \"*\"               \" \"        \" \"       \"*\"       \"*\"       \" \"      \n",
       "16  ( 1 ) \"*\"               \" \"        \" \"       \"*\"       \"*\"       \" \"      \n",
       "17  ( 1 ) \"*\"               \" \"        \" \"       \"*\"       \"*\"       \" \"      \n",
       "18  ( 1 ) \"*\"               \" \"        \" \"       \"*\"       \"*\"       \" \"      \n",
       "19  ( 1 ) \"*\"               \" \"        \" \"       \"*\"       \"*\"       \" \"      \n",
       "20  ( 1 ) \"*\"               \" \"        \" \"       \"*\"       \"*\"       \" \"      \n",
       "21  ( 1 ) \"*\"               \" \"        \" \"       \"*\"       \"*\"       \" \"      \n",
       "          month_mar month_may month_nov month_oct month_sep month_NA\n",
       "1  ( 1 )  \" \"       \" \"       \" \"       \" \"       \" \"       \" \"     \n",
       "2  ( 1 )  \" \"       \" \"       \" \"       \" \"       \" \"       \" \"     \n",
       "3  ( 1 )  \" \"       \"*\"       \" \"       \" \"       \" \"       \" \"     \n",
       "4  ( 1 )  \"*\"       \"*\"       \" \"       \" \"       \" \"       \" \"     \n",
       "5  ( 1 )  \"*\"       \"*\"       \" \"       \" \"       \" \"       \" \"     \n",
       "6  ( 1 )  \"*\"       \"*\"       \" \"       \" \"       \" \"       \" \"     \n",
       "7  ( 1 )  \"*\"       \"*\"       \" \"       \" \"       \" \"       \" \"     \n",
       "8  ( 1 )  \"*\"       \"*\"       \" \"       \" \"       \" \"       \" \"     \n",
       "9  ( 1 )  \"*\"       \"*\"       \" \"       \" \"       \" \"       \" \"     \n",
       "10  ( 1 ) \"*\"       \"*\"       \" \"       \" \"       \" \"       \" \"     \n",
       "11  ( 1 ) \"*\"       \"*\"       \" \"       \" \"       \" \"       \" \"     \n",
       "12  ( 1 ) \"*\"       \"*\"       \" \"       \" \"       \" \"       \" \"     \n",
       "13  ( 1 ) \"*\"       \"*\"       \" \"       \" \"       \" \"       \" \"     \n",
       "14  ( 1 ) \"*\"       \"*\"       \" \"       \" \"       \" \"       \" \"     \n",
       "15  ( 1 ) \"*\"       \"*\"       \" \"       \" \"       \" \"       \" \"     \n",
       "16  ( 1 ) \"*\"       \"*\"       \" \"       \" \"       \" \"       \" \"     \n",
       "17  ( 1 ) \"*\"       \"*\"       \" \"       \" \"       \" \"       \" \"     \n",
       "18  ( 1 ) \"*\"       \"*\"       \" \"       \" \"       \" \"       \" \"     \n",
       "19  ( 1 ) \"*\"       \"*\"       \" \"       \" \"       \" \"       \" \"     \n",
       "20  ( 1 ) \"*\"       \"*\"       \"*\"       \" \"       \" \"       \" \"     \n",
       "21  ( 1 ) \"*\"       \"*\"       \"*\"       \" \"       \" \"       \" \"     \n",
       "          day_of_week_mon day_of_week_thu day_of_week_tue day_of_week_wed\n",
       "1  ( 1 )  \" \"             \" \"             \" \"             \" \"            \n",
       "2  ( 1 )  \" \"             \" \"             \" \"             \" \"            \n",
       "3  ( 1 )  \" \"             \" \"             \" \"             \" \"            \n",
       "4  ( 1 )  \" \"             \" \"             \" \"             \" \"            \n",
       "5  ( 1 )  \" \"             \" \"             \" \"             \" \"            \n",
       "6  ( 1 )  \" \"             \" \"             \" \"             \" \"            \n",
       "7  ( 1 )  \" \"             \" \"             \" \"             \" \"            \n",
       "8  ( 1 )  \" \"             \" \"             \" \"             \" \"            \n",
       "9  ( 1 )  \" \"             \" \"             \" \"             \" \"            \n",
       "10  ( 1 ) \" \"             \" \"             \" \"             \" \"            \n",
       "11  ( 1 ) \" \"             \" \"             \" \"             \" \"            \n",
       "12  ( 1 ) \"*\"             \" \"             \" \"             \" \"            \n",
       "13  ( 1 ) \"*\"             \" \"             \" \"             \" \"            \n",
       "14  ( 1 ) \"*\"             \" \"             \" \"             \" \"            \n",
       "15  ( 1 ) \"*\"             \" \"             \" \"             \" \"            \n",
       "16  ( 1 ) \"*\"             \" \"             \" \"             \" \"            \n",
       "17  ( 1 ) \"*\"             \" \"             \" \"             \" \"            \n",
       "18  ( 1 ) \"*\"             \" \"             \" \"             \" \"            \n",
       "19  ( 1 ) \"*\"             \" \"             \" \"             \" \"            \n",
       "20  ( 1 ) \"*\"             \" \"             \" \"             \" \"            \n",
       "21  ( 1 ) \"*\"             \" \"             \" \"             \" \"            \n",
       "          day_of_week_NA poutcome_nonexistent poutcome_success poutcome_NA\n",
       "1  ( 1 )  \" \"            \" \"                  \" \"              \" \"        \n",
       "2  ( 1 )  \" \"            \" \"                  \" \"              \" \"        \n",
       "3  ( 1 )  \" \"            \" \"                  \" \"              \" \"        \n",
       "4  ( 1 )  \" \"            \" \"                  \" \"              \" \"        \n",
       "5  ( 1 )  \" \"            \" \"                  \" \"              \" \"        \n",
       "6  ( 1 )  \" \"            \" \"                  \" \"              \" \"        \n",
       "7  ( 1 )  \" \"            \"*\"                  \" \"              \" \"        \n",
       "8  ( 1 )  \" \"            \"*\"                  \" \"              \" \"        \n",
       "9  ( 1 )  \" \"            \"*\"                  \" \"              \" \"        \n",
       "10  ( 1 ) \" \"            \"*\"                  \" \"              \" \"        \n",
       "11  ( 1 ) \" \"            \"*\"                  \" \"              \" \"        \n",
       "12  ( 1 ) \" \"            \"*\"                  \" \"              \" \"        \n",
       "13  ( 1 ) \" \"            \"*\"                  \" \"              \" \"        \n",
       "14  ( 1 ) \" \"            \"*\"                  \" \"              \" \"        \n",
       "15  ( 1 ) \" \"            \"*\"                  \" \"              \" \"        \n",
       "16  ( 1 ) \" \"            \"*\"                  \" \"              \" \"        \n",
       "17  ( 1 ) \" \"            \"*\"                  \" \"              \" \"        \n",
       "18  ( 1 ) \" \"            \"*\"                  \" \"              \" \"        \n",
       "19  ( 1 ) \" \"            \"*\"                  \" \"              \" \"        \n",
       "20  ( 1 ) \" \"            \"*\"                  \" \"              \" \"        \n",
       "21  ( 1 ) \" \"            \"*\"                  \" \"              \" \"        "
      ]
     },
     "metadata": {},
     "output_type": "display_data"
    }
   ],
   "source": [
    "summary(step.model$finalModel) #get the summary of the final model. \n",
    "#summary shows what variables were selected at each iteration "
   ]
  },
  {
   "cell_type": "markdown",
   "metadata": {},
   "source": [
    "## Applying the model "
   ]
  },
  {
   "cell_type": "code",
   "execution_count": 754,
   "metadata": {},
   "outputs": [],
   "source": [
    "#turning target into factor to apply classification models\n",
    "train$subscribe = as.factor(train$subscribe)\n",
    "test$subscribe = as.factor(test$subscribe)"
   ]
  },
  {
   "cell_type": "code",
   "execution_count": 755,
   "metadata": {},
   "outputs": [
    {
     "data": {
      "text/html": [
       "<style>\n",
       ".list-inline {list-style: none; margin:0; padding: 0}\n",
       ".list-inline>li {display: inline-block}\n",
       ".list-inline>li:not(:last-child)::after {content: \"\\00b7\"; padding: 0 .5ex}\n",
       "</style>\n",
       "<ol class=list-inline><li>'0'</li><li>'1'</li></ol>\n"
      ],
      "text/latex": [
       "\\begin{enumerate*}\n",
       "\\item '0'\n",
       "\\item '1'\n",
       "\\end{enumerate*}\n"
      ],
      "text/markdown": [
       "1. '0'\n",
       "2. '1'\n",
       "\n",
       "\n"
      ],
      "text/plain": [
       "[1] \"0\" \"1\""
      ]
     },
     "metadata": {},
     "output_type": "display_data"
    }
   ],
   "source": [
    "levels(test$subscribe) #checking factor variable"
   ]
  },
  {
   "cell_type": "code",
   "execution_count": 756,
   "metadata": {
    "scrolled": false
   },
   "outputs": [],
   "source": [
    "#https://machinelearningmastery.com/machine-learning-in-r-step-by-step/\n",
    "# Run algorithms using 10-fold cross validation using the variables selected by the stepwise regression\n",
    "control <- trainControl(method=\"cv\", number=10) #setting up 10 fold cross validation\n",
    "\n",
    "metric <- \"Accuracy\" #evaluation metric \n",
    "\n",
    "#APPLYING THE ALGORITHMS USING THE VARIABLES SELECTED BY THE STEPWISE SELECTION\n",
    "# a) linear algorithms\n",
    "\n",
    "set.seed(7) \n",
    "fit.lda <- train(subscribe ~ campaign + pdays + emp.var.rate + cons.price.idx + cons.conf.idx+\n",
    "        nr.employed+job_retired+job_student+marital_unknown + marital_NA +education_university.degree+\n",
    "        default_unknown + default_NA + contact_telephone +month_dec+month_jul+month_mar+month_may +\n",
    "        month_nov + day_of_week_mon +poutcome_nonexistent,\n",
    "        data=train, method=\"lda\", metric=metric, trControl=control)\n",
    "\n",
    "# b) nonlinear algorithms\n",
    "# CART\n",
    "set.seed(7)\n",
    "fit.cart <- train(subscribe ~ campaign + pdays + emp.var.rate + cons.price.idx + cons.conf.idx+\n",
    "        nr.employed+job_retired+job_student+marital_unknown + marital_NA +education_university.degree+\n",
    "        default_unknown + default_NA + contact_telephone +month_dec+month_jul+month_mar+month_may + \n",
    "        month_nov + day_of_week_mon +poutcome_nonexistent,\n",
    "        data=train, method=\"rpart\", metric=metric, trControl=control)\n",
    "\n",
    "# kNN\n",
    "set.seed(7)\n",
    "fit.knn <- train(subscribe ~ campaign + pdays + emp.var.rate + cons.price.idx + cons.conf.idx+\n",
    "        nr.employed+job_retired+job_student+marital_unknown + marital_NA +education_university.degree+\n",
    "        default_unknown + default_NA + contact_telephone +month_dec+month_jul+month_mar+month_may + \n",
    "        month_nov + day_of_week_mon +poutcome_nonexistent,\n",
    "        data=train, method=\"knn\", metric=metric, trControl=control)\n",
    "\n",
    "# c) advanced algorithms\n",
    "# SVM\n",
    "set.seed(7)\n",
    "fit.svm <- train(subscribe ~ campaign + pdays + emp.var.rate + cons.price.idx + cons.conf.idx+\n",
    "        nr.employed+job_retired+job_student+marital_unknown + marital_NA +education_university.degree+\n",
    "        default_unknown + default_NA + contact_telephone +month_dec+month_jul+month_mar+month_may + \n",
    "        month_nov + day_of_week_mon +poutcome_nonexistent,\n",
    "        data=train, method=\"svmRadial\", metric=metric, trControl=control)\n",
    "# Random Forest\n",
    "set.seed(7)\n",
    "fit.rf <- train(subscribe ~ campaign + pdays + emp.var.rate + cons.price.idx + cons.conf.idx+\n",
    "        nr.employed+job_retired+job_student+marital_unknown + marital_NA +education_university.degree+\n",
    "        default_unknown + default_NA + contact_telephone +month_dec+month_jul+month_mar+month_may + \n",
    "        month_nov + day_of_week_mon +poutcome_nonexistent,\n",
    "        data=train, method=\"rf\", metric=metric, trControl=control)\n"
   ]
  },
  {
   "cell_type": "code",
   "execution_count": 758,
   "metadata": {},
   "outputs": [
    {
     "data": {
      "text/plain": [
       "\n",
       "Call:\n",
       "summary.resamples(object = results)\n",
       "\n",
       "Models: lda, cart, knn, svm, rf \n",
       "Number of resamples: 10 \n",
       "\n",
       "Accuracy \n",
       "          Min.   1st Qu.    Median      Mean   3rd Qu.      Max. NA's\n",
       "lda  0.8724490 0.8876937 0.8898614 0.8885007 0.8918673 0.8957726    0\n",
       "cart 0.8826531 0.8936907 0.8967907 0.8950639 0.8982495 0.9008746    0\n",
       "knn  0.8884840 0.8936907 0.8942378 0.8952089 0.8957536 0.9022611    0\n",
       "svm  0.8927790 0.8937490 0.8964260 0.8964489 0.8986142 0.9022611    0\n",
       "rf   0.8855685 0.8944779 0.8982495 0.8963764 0.8991612 0.9008023    0\n",
       "\n",
       "Kappa \n",
       "          Min.   1st Qu.    Median      Mean   3rd Qu.      Max. NA's\n",
       "lda  0.2902833 0.3570532 0.3735037 0.3693521 0.3902179 0.4176249    0\n",
       "cart 0.2090662 0.2622400 0.2951138 0.2878451 0.3263884 0.3556263    0\n",
       "knn  0.2309530 0.2851491 0.3072071 0.3077430 0.3420934 0.3514797    0\n",
       "svm  0.2093520 0.2374064 0.2655732 0.2613638 0.2831645 0.3015686    0\n",
       "rf   0.1588804 0.2388747 0.2723059 0.2567604 0.2893886 0.2929814    0\n"
      ]
     },
     "metadata": {},
     "output_type": "display_data"
    }
   ],
   "source": [
    "# summarize accuracy of models\n",
    "results <- resamples(list(lda=fit.lda, cart=fit.cart, knn=fit.knn, svm=fit.svm, rf=fit.rf), \n",
    "                     measures=list(acc, mlr::auc))\n",
    "summary(results)"
   ]
  },
  {
   "cell_type": "code",
   "execution_count": 759,
   "metadata": {},
   "outputs": [
    {
     "name": "stdout",
     "output_type": "stream",
     "text": [
      "Support Vector Machines with Radial Basis Function Kernel \n",
      "\n",
      "13713 samples\n",
      "   21 predictor\n",
      "    2 classes: '0', '1' \n",
      "\n",
      "No pre-processing\n",
      "Resampling: Cross-Validated (10 fold) \n",
      "Summary of sample sizes: 12342, 12342, 12342, 12342, 12341, 12342, ... \n",
      "Resampling results across tuning parameters:\n",
      "\n",
      "  C     Accuracy   Kappa    \n",
      "  0.25  0.8964489  0.2613638\n",
      "  0.50  0.8961573  0.2686502\n",
      "  1.00  0.8951365  0.2779010\n",
      "\n",
      "Tuning parameter 'sigma' was held constant at a value of 0.04781915\n",
      "Accuracy was used to select the optimal model using the largest value.\n",
      "The final values used for the model were sigma = 0.04781915 and C = 0.25.\n"
     ]
    }
   ],
   "source": [
    "# summarize Best Model \n",
    "print(fit.svm)"
   ]
  },
  {
   "cell_type": "markdown",
   "metadata": {},
   "source": [
    "## Making predictions"
   ]
  },
  {
   "cell_type": "code",
   "execution_count": 760,
   "metadata": {},
   "outputs": [
    {
     "data": {
      "text/plain": [
       "Confusion Matrix and Statistics\n",
       "\n",
       "          Reference\n",
       "Prediction    0    1\n",
       "         0 5178  515\n",
       "         1   58  132\n",
       "                                          \n",
       "               Accuracy : 0.9026          \n",
       "                 95% CI : (0.8947, 0.9101)\n",
       "    No Information Rate : 0.89            \n",
       "    P-Value [Acc > NIR] : 0.0009327       \n",
       "                                          \n",
       "                  Kappa : 0.2794          \n",
       "                                          \n",
       " Mcnemar's Test P-Value : < 2.2e-16       \n",
       "                                          \n",
       "            Sensitivity : 0.9889          \n",
       "            Specificity : 0.2040          \n",
       "         Pos Pred Value : 0.9095          \n",
       "         Neg Pred Value : 0.6947          \n",
       "             Prevalence : 0.8900          \n",
       "         Detection Rate : 0.8802          \n",
       "   Detection Prevalence : 0.9677          \n",
       "      Balanced Accuracy : 0.5965          \n",
       "                                          \n",
       "       'Positive' Class : 0               \n",
       "                                          "
      ]
     },
     "metadata": {},
     "output_type": "display_data"
    }
   ],
   "source": [
    "# estimate skill of svm on the validation dataset\n",
    "predictions <- predict(fit.svm, test)\n",
    "confusionMatrix(predictions, test$subscribe)"
   ]
  },
  {
   "cell_type": "code",
   "execution_count": 792,
   "metadata": {},
   "outputs": [
    {
     "name": "stderr",
     "output_type": "stream",
     "text": [
      "Setting levels: control = 1, case = 2\n",
      "\n",
      "Setting direction: controls < cases\n",
      "\n"
     ]
    },
    {
     "name": "stdout",
     "output_type": "stream",
     "text": [
      "[1] \"AUC = 0.802137435631939\"\n"
     ]
    }
   ],
   "source": [
    "# AUC\n",
    "pred_roc <- pROC::roc(as.numeric(predictions), as.numeric(test$subscribe == \"1\"))\n",
    "pred_auc <- pROC::auc(pred_roc)\n",
    "print(paste('AUC =', pred_auc))"
   ]
  },
  {
   "cell_type": "code",
   "execution_count": 793,
   "metadata": {},
   "outputs": [],
   "source": [
    "write.csv(train,\".//Dataset 1_Bank Marketing//train.csv\", row.names = TRUE)\n",
    "write.csv(test,\".//Dataset 1_Bank Marketing//test.csv\", row.names = TRUE)"
   ]
  }
 ],
 "metadata": {
  "interpreter": {
   "hash": "d7ff20910c5304552d0b4c1164dfc0a171c277810953fa1692cab57ae17a1bfb"
  },
  "kernelspec": {
   "display_name": "R",
   "language": "R",
   "name": "ir"
  },
  "language_info": {
   "codemirror_mode": "r",
   "file_extension": ".r",
   "mimetype": "text/x-r-source",
   "name": "R",
   "pygments_lexer": "r",
   "version": "4.0.5"
  }
 },
 "nbformat": 4,
 "nbformat_minor": 2
}
